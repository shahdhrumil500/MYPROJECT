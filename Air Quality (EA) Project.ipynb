{
 "cells": [
  {
   "cell_type": "markdown",
   "id": "local-submission",
   "metadata": {},
   "source": [
    "## Python practise project"
   ]
  },
  {
   "cell_type": "markdown",
   "id": "pregnant-abuse",
   "metadata": {},
   "source": [
    "Air Quality Descriptive Analysis"
   ]
  },
  {
   "cell_type": "code",
   "execution_count": 29,
   "id": "eleven-palace",
   "metadata": {},
   "outputs": [],
   "source": [
    "import pandas as pd\n",
    "import numpy as np\n",
    "import matplotlib.pyplot as plt\n",
    "%matplotlib inline"
   ]
  },
  {
   "cell_type": "code",
   "execution_count": 30,
   "id": "welsh-terrace",
   "metadata": {
    "scrolled": true
   },
   "outputs": [
    {
     "data": {
      "text/html": [
       "<div>\n",
       "<style scoped>\n",
       "    .dataframe tbody tr th:only-of-type {\n",
       "        vertical-align: middle;\n",
       "    }\n",
       "\n",
       "    .dataframe tbody tr th {\n",
       "        vertical-align: top;\n",
       "    }\n",
       "\n",
       "    .dataframe thead th {\n",
       "        text-align: right;\n",
       "    }\n",
       "</style>\n",
       "<table border=\"1\" class=\"dataframe\">\n",
       "  <thead>\n",
       "    <tr style=\"text-align: right;\">\n",
       "      <th></th>\n",
       "      <th>Ozone</th>\n",
       "      <th>Solar.R</th>\n",
       "      <th>Wind</th>\n",
       "      <th>Temp</th>\n",
       "      <th>Month</th>\n",
       "      <th>Day</th>\n",
       "    </tr>\n",
       "  </thead>\n",
       "  <tbody>\n",
       "    <tr>\n",
       "      <th>1</th>\n",
       "      <td>41.0</td>\n",
       "      <td>190.0</td>\n",
       "      <td>7.4</td>\n",
       "      <td>67</td>\n",
       "      <td>5</td>\n",
       "      <td>1</td>\n",
       "    </tr>\n",
       "    <tr>\n",
       "      <th>2</th>\n",
       "      <td>36.0</td>\n",
       "      <td>118.0</td>\n",
       "      <td>8.0</td>\n",
       "      <td>72</td>\n",
       "      <td>5</td>\n",
       "      <td>2</td>\n",
       "    </tr>\n",
       "    <tr>\n",
       "      <th>3</th>\n",
       "      <td>12.0</td>\n",
       "      <td>149.0</td>\n",
       "      <td>12.6</td>\n",
       "      <td>74</td>\n",
       "      <td>5</td>\n",
       "      <td>3</td>\n",
       "    </tr>\n",
       "    <tr>\n",
       "      <th>4</th>\n",
       "      <td>18.0</td>\n",
       "      <td>313.0</td>\n",
       "      <td>11.5</td>\n",
       "      <td>62</td>\n",
       "      <td>5</td>\n",
       "      <td>4</td>\n",
       "    </tr>\n",
       "    <tr>\n",
       "      <th>5</th>\n",
       "      <td>NaN</td>\n",
       "      <td>NaN</td>\n",
       "      <td>14.3</td>\n",
       "      <td>56</td>\n",
       "      <td>5</td>\n",
       "      <td>5</td>\n",
       "    </tr>\n",
       "  </tbody>\n",
       "</table>\n",
       "</div>"
      ],
      "text/plain": [
       "   Ozone  Solar.R  Wind  Temp  Month  Day\n",
       "1   41.0    190.0   7.4    67      5    1\n",
       "2   36.0    118.0   8.0    72      5    2\n",
       "3   12.0    149.0  12.6    74      5    3\n",
       "4   18.0    313.0  11.5    62      5    4\n",
       "5    NaN      NaN  14.3    56      5    5"
      ]
     },
     "execution_count": 30,
     "metadata": {},
     "output_type": "execute_result"
    }
   ],
   "source": [
    "data = pd.read_csv(\"F:/Dhrumil/r/tableau dataset/airquality.csv\", index_col= 0)   ##To load the csv file.\n",
    "data.head()"
   ]
  },
  {
   "cell_type": "markdown",
   "id": "automated-neighbor",
   "metadata": {},
   "source": [
    "### Cleaning of the data"
   ]
  },
  {
   "cell_type": "code",
   "execution_count": 31,
   "id": "sized-lover",
   "metadata": {},
   "outputs": [
    {
     "data": {
      "text/plain": [
       "Ozone      37\n",
       "Solar.R     7\n",
       "Wind        0\n",
       "Temp        0\n",
       "Month       0\n",
       "Day         0\n",
       "dtype: int64"
      ]
     },
     "execution_count": 31,
     "metadata": {},
     "output_type": "execute_result"
    }
   ],
   "source": [
    "data.isnull().sum()   ##Identifying the total null values"
   ]
  },
  {
   "cell_type": "code",
   "execution_count": 33,
   "id": "raised-network",
   "metadata": {},
   "outputs": [
    {
     "data": {
      "text/html": [
       "<div>\n",
       "<style scoped>\n",
       "    .dataframe tbody tr th:only-of-type {\n",
       "        vertical-align: middle;\n",
       "    }\n",
       "\n",
       "    .dataframe tbody tr th {\n",
       "        vertical-align: top;\n",
       "    }\n",
       "\n",
       "    .dataframe thead th {\n",
       "        text-align: right;\n",
       "    }\n",
       "</style>\n",
       "<table border=\"1\" class=\"dataframe\">\n",
       "  <thead>\n",
       "    <tr style=\"text-align: right;\">\n",
       "      <th></th>\n",
       "      <th>Ozone</th>\n",
       "      <th>Solar.R</th>\n",
       "      <th>Wind</th>\n",
       "      <th>Temp</th>\n",
       "      <th>Month</th>\n",
       "      <th>Day</th>\n",
       "    </tr>\n",
       "  </thead>\n",
       "  <tbody>\n",
       "    <tr>\n",
       "      <th>1</th>\n",
       "      <td>41.0</td>\n",
       "      <td>190.000000</td>\n",
       "      <td>7.4</td>\n",
       "      <td>67</td>\n",
       "      <td>5</td>\n",
       "      <td>1</td>\n",
       "    </tr>\n",
       "    <tr>\n",
       "      <th>2</th>\n",
       "      <td>36.0</td>\n",
       "      <td>118.000000</td>\n",
       "      <td>8.0</td>\n",
       "      <td>72</td>\n",
       "      <td>5</td>\n",
       "      <td>2</td>\n",
       "    </tr>\n",
       "    <tr>\n",
       "      <th>3</th>\n",
       "      <td>12.0</td>\n",
       "      <td>149.000000</td>\n",
       "      <td>12.6</td>\n",
       "      <td>74</td>\n",
       "      <td>5</td>\n",
       "      <td>3</td>\n",
       "    </tr>\n",
       "    <tr>\n",
       "      <th>4</th>\n",
       "      <td>18.0</td>\n",
       "      <td>313.000000</td>\n",
       "      <td>11.5</td>\n",
       "      <td>62</td>\n",
       "      <td>5</td>\n",
       "      <td>4</td>\n",
       "    </tr>\n",
       "    <tr>\n",
       "      <th>5</th>\n",
       "      <td>23.0</td>\n",
       "      <td>308.333333</td>\n",
       "      <td>14.3</td>\n",
       "      <td>56</td>\n",
       "      <td>5</td>\n",
       "      <td>5</td>\n",
       "    </tr>\n",
       "  </tbody>\n",
       "</table>\n",
       "</div>"
      ],
      "text/plain": [
       "   Ozone     Solar.R  Wind  Temp  Month  Day\n",
       "1   41.0  190.000000   7.4    67      5    1\n",
       "2   36.0  118.000000   8.0    72      5    2\n",
       "3   12.0  149.000000  12.6    74      5    3\n",
       "4   18.0  313.000000  11.5    62      5    4\n",
       "5   23.0  308.333333  14.3    56      5    5"
      ]
     },
     "execution_count": 33,
     "metadata": {},
     "output_type": "execute_result"
    }
   ],
   "source": [
    "data.interpolate(inplace= True)           ##Removing the null values\n",
    "data.head()"
   ]
  },
  {
   "cell_type": "code",
   "execution_count": 34,
   "id": "incoming-sheriff",
   "metadata": {},
   "outputs": [
    {
     "data": {
      "text/plain": [
       "Ozone      0\n",
       "Solar.R    0\n",
       "Wind       0\n",
       "Temp       0\n",
       "Month      0\n",
       "Day        0\n",
       "dtype: int64"
      ]
     },
     "execution_count": 34,
     "metadata": {},
     "output_type": "execute_result"
    }
   ],
   "source": [
    "data.isnull().sum()   ##Reconfirming the null values"
   ]
  },
  {
   "cell_type": "code",
   "execution_count": 35,
   "id": "medical-ceramic",
   "metadata": {},
   "outputs": [
    {
     "data": {
      "text/html": [
       "<div>\n",
       "<style scoped>\n",
       "    .dataframe tbody tr th:only-of-type {\n",
       "        vertical-align: middle;\n",
       "    }\n",
       "\n",
       "    .dataframe tbody tr th {\n",
       "        vertical-align: top;\n",
       "    }\n",
       "\n",
       "    .dataframe thead th {\n",
       "        text-align: right;\n",
       "    }\n",
       "</style>\n",
       "<table border=\"1\" class=\"dataframe\">\n",
       "  <thead>\n",
       "    <tr style=\"text-align: right;\">\n",
       "      <th></th>\n",
       "      <th>Ozone</th>\n",
       "      <th>Solar</th>\n",
       "      <th>Wind</th>\n",
       "      <th>Temp</th>\n",
       "      <th>Month</th>\n",
       "      <th>Day</th>\n",
       "    </tr>\n",
       "  </thead>\n",
       "  <tbody>\n",
       "    <tr>\n",
       "      <th>1</th>\n",
       "      <td>41.0</td>\n",
       "      <td>190.000000</td>\n",
       "      <td>7.4</td>\n",
       "      <td>67</td>\n",
       "      <td>5</td>\n",
       "      <td>1</td>\n",
       "    </tr>\n",
       "    <tr>\n",
       "      <th>2</th>\n",
       "      <td>36.0</td>\n",
       "      <td>118.000000</td>\n",
       "      <td>8.0</td>\n",
       "      <td>72</td>\n",
       "      <td>5</td>\n",
       "      <td>2</td>\n",
       "    </tr>\n",
       "    <tr>\n",
       "      <th>3</th>\n",
       "      <td>12.0</td>\n",
       "      <td>149.000000</td>\n",
       "      <td>12.6</td>\n",
       "      <td>74</td>\n",
       "      <td>5</td>\n",
       "      <td>3</td>\n",
       "    </tr>\n",
       "    <tr>\n",
       "      <th>4</th>\n",
       "      <td>18.0</td>\n",
       "      <td>313.000000</td>\n",
       "      <td>11.5</td>\n",
       "      <td>62</td>\n",
       "      <td>5</td>\n",
       "      <td>4</td>\n",
       "    </tr>\n",
       "    <tr>\n",
       "      <th>5</th>\n",
       "      <td>23.0</td>\n",
       "      <td>308.333333</td>\n",
       "      <td>14.3</td>\n",
       "      <td>56</td>\n",
       "      <td>5</td>\n",
       "      <td>5</td>\n",
       "    </tr>\n",
       "  </tbody>\n",
       "</table>\n",
       "</div>"
      ],
      "text/plain": [
       "   Ozone       Solar  Wind  Temp  Month  Day\n",
       "1   41.0  190.000000   7.4    67      5    1\n",
       "2   36.0  118.000000   8.0    72      5    2\n",
       "3   12.0  149.000000  12.6    74      5    3\n",
       "4   18.0  313.000000  11.5    62      5    4\n",
       "5   23.0  308.333333  14.3    56      5    5"
      ]
     },
     "execution_count": 35,
     "metadata": {},
     "output_type": "execute_result"
    }
   ],
   "source": [
    "data.rename(columns={\"Solar.R\":\"Solar\"},inplace=True)      ##Renaming few column\n",
    "data.head()"
   ]
  },
  {
   "cell_type": "code",
   "execution_count": 36,
   "id": "absolute-family",
   "metadata": {},
   "outputs": [
    {
     "data": {
      "text/html": [
       "<div>\n",
       "<style scoped>\n",
       "    .dataframe tbody tr th:only-of-type {\n",
       "        vertical-align: middle;\n",
       "    }\n",
       "\n",
       "    .dataframe tbody tr th {\n",
       "        vertical-align: top;\n",
       "    }\n",
       "\n",
       "    .dataframe thead th {\n",
       "        text-align: right;\n",
       "    }\n",
       "</style>\n",
       "<table border=\"1\" class=\"dataframe\">\n",
       "  <thead>\n",
       "    <tr style=\"text-align: right;\">\n",
       "      <th></th>\n",
       "      <th>Ozone</th>\n",
       "      <th>Solar</th>\n",
       "      <th>Wind</th>\n",
       "      <th>Temp</th>\n",
       "      <th>Month</th>\n",
       "      <th>Day</th>\n",
       "    </tr>\n",
       "  </thead>\n",
       "  <tbody>\n",
       "    <tr>\n",
       "      <th>1</th>\n",
       "      <td>41</td>\n",
       "      <td>190</td>\n",
       "      <td>7.4</td>\n",
       "      <td>67</td>\n",
       "      <td>5</td>\n",
       "      <td>1</td>\n",
       "    </tr>\n",
       "    <tr>\n",
       "      <th>2</th>\n",
       "      <td>36</td>\n",
       "      <td>118</td>\n",
       "      <td>8.0</td>\n",
       "      <td>72</td>\n",
       "      <td>5</td>\n",
       "      <td>2</td>\n",
       "    </tr>\n",
       "    <tr>\n",
       "      <th>3</th>\n",
       "      <td>12</td>\n",
       "      <td>149</td>\n",
       "      <td>12.6</td>\n",
       "      <td>74</td>\n",
       "      <td>5</td>\n",
       "      <td>3</td>\n",
       "    </tr>\n",
       "    <tr>\n",
       "      <th>4</th>\n",
       "      <td>18</td>\n",
       "      <td>313</td>\n",
       "      <td>11.5</td>\n",
       "      <td>62</td>\n",
       "      <td>5</td>\n",
       "      <td>4</td>\n",
       "    </tr>\n",
       "    <tr>\n",
       "      <th>5</th>\n",
       "      <td>23</td>\n",
       "      <td>308</td>\n",
       "      <td>14.3</td>\n",
       "      <td>56</td>\n",
       "      <td>5</td>\n",
       "      <td>5</td>\n",
       "    </tr>\n",
       "  </tbody>\n",
       "</table>\n",
       "</div>"
      ],
      "text/plain": [
       "   Ozone  Solar  Wind  Temp  Month  Day\n",
       "1     41    190   7.4    67      5    1\n",
       "2     36    118   8.0    72      5    2\n",
       "3     12    149  12.6    74      5    3\n",
       "4     18    313  11.5    62      5    4\n",
       "5     23    308  14.3    56      5    5"
      ]
     },
     "execution_count": 36,
     "metadata": {},
     "output_type": "execute_result"
    }
   ],
   "source": [
    "data.Solar= data.astype(int).Solar          ##Cleaning the data to understand better\n",
    "data.Ozone= data.astype(int).Ozone\n",
    "data.head()"
   ]
  },
  {
   "cell_type": "code",
   "execution_count": 39,
   "id": "cardiac-investing",
   "metadata": {},
   "outputs": [
    {
     "data": {
      "text/plain": [
       "5    31\n",
       "7    31\n",
       "8    31\n",
       "6    30\n",
       "9    30\n",
       "Name: Month, dtype: int64"
      ]
     },
     "execution_count": 39,
     "metadata": {},
     "output_type": "execute_result"
    }
   ],
   "source": [
    "data.Month.value_counts()"
   ]
  },
  {
   "cell_type": "markdown",
   "id": "super-transcript",
   "metadata": {},
   "source": [
    "### Now let's plot the data into histogram"
   ]
  },
  {
   "cell_type": "code",
   "execution_count": 8,
   "id": "infectious-southwest",
   "metadata": {
    "scrolled": false
   },
   "outputs": [
    {
     "data": {
      "image/png": "[encoded data removed]",
      "text/plain": [
       "<Figure size 432x288 with 1 Axes>"
      ]
     },
     "metadata": {
      "needs_background": "light"
     },
     "output_type": "display_data"
    }
   ],
   "source": [
    "plt.hist(data.Ozone, rwidth= 0.9) \n",
    "plt.xlabel(\"Ozone\")\n",
    "plt.ylabel(\"Freq\")\n",
    "plt.title(\"Ozone~Hist\");"
   ]
  },
  {
   "cell_type": "markdown",
   "id": "romantic-standard",
   "metadata": {},
   "source": [
    "Here we can observe that, Ozone Histogram is right skewed. Thus, here mean will be higher than median. This is shown below."
   ]
  },
  {
   "cell_type": "code",
   "execution_count": 9,
   "id": "mineral-complement",
   "metadata": {},
   "outputs": [
    {
     "data": {
      "text/plain": [
       "count    153.000000\n",
       "mean      43.196078\n",
       "std       31.845651\n",
       "min        1.000000\n",
       "25%       20.000000\n",
       "50%       33.000000\n",
       "75%       63.000000\n",
       "max      168.000000\n",
       "Name: Ozone, dtype: float64"
      ]
     },
     "execution_count": 9,
     "metadata": {},
     "output_type": "execute_result"
    }
   ],
   "source": [
    "data.Ozone.describe()"
   ]
  },
  {
   "cell_type": "code",
   "execution_count": 10,
   "id": "flush-typing",
   "metadata": {},
   "outputs": [
    {
     "data": {
      "image/png": "[encoded data removed]",
      "text/plain": [
       "<Figure size 432x288 with 1 Axes>"
      ]
     },
     "metadata": {
      "needs_background": "light"
     },
     "output_type": "display_data"
    }
   ],
   "source": [
    "plt.hist(data.Solar, rwidth=0.9)\n",
    "plt.xlabel(\"Solar\")\n",
    "plt.ylabel(\"Freq\")\n",
    "plt.title(\"Solar~Hist\");"
   ]
  },
  {
   "cell_type": "markdown",
   "id": "painful-projection",
   "metadata": {},
   "source": [
    "Here we can observe that Solar histogram is slight left skewed. As a result of which mean will be lower than median. As shown below."
   ]
  },
  {
   "cell_type": "code",
   "execution_count": 11,
   "id": "romantic-population",
   "metadata": {},
   "outputs": [
    {
     "data": {
      "text/plain": [
       "count    153.000000\n",
       "mean     187.045752\n",
       "std       89.345673\n",
       "min        7.000000\n",
       "25%      120.000000\n",
       "50%      207.000000\n",
       "75%      259.000000\n",
       "max      334.000000\n",
       "Name: Solar, dtype: float64"
      ]
     },
     "execution_count": 11,
     "metadata": {},
     "output_type": "execute_result"
    }
   ],
   "source": [
    "data.Solar.describe()"
   ]
  },
  {
   "cell_type": "code",
   "execution_count": 12,
   "id": "pending-sucking",
   "metadata": {},
   "outputs": [
    {
     "data": {
      "image/png": "[encoded data removed]",
      "text/plain": [
       "<Figure size 432x288 with 1 Axes>"
      ]
     },
     "metadata": {
      "needs_background": "light"
     },
     "output_type": "display_data"
    }
   ],
   "source": [
    "plt.hist(data.Wind, rwidth=0.9)\n",
    "plt.xlabel(\"Wind\")\n",
    "plt.ylabel(\"Freq\")\n",
    "plt.title(\"Wind~Hist\");"
   ]
  },
  {
   "cell_type": "markdown",
   "id": "deadly-youth",
   "metadata": {},
   "source": [
    "The Wind histogram is nearly normaly distributed but very slightly skewed towards right. Thus difference between mean and median is low but mean will be slightly higher than median. This is shown below."
   ]
  },
  {
   "cell_type": "code",
   "execution_count": 13,
   "id": "conditional-player",
   "metadata": {},
   "outputs": [
    {
     "data": {
      "text/plain": [
       "count    153.000000\n",
       "mean       9.957516\n",
       "std        3.523001\n",
       "min        1.700000\n",
       "25%        7.400000\n",
       "50%        9.700000\n",
       "75%       11.500000\n",
       "max       20.700000\n",
       "Name: Wind, dtype: float64"
      ]
     },
     "execution_count": 13,
     "metadata": {},
     "output_type": "execute_result"
    }
   ],
   "source": [
    "data.Wind.describe()"
   ]
  },
  {
   "cell_type": "code",
   "execution_count": 14,
   "id": "dramatic-occurrence",
   "metadata": {},
   "outputs": [
    {
     "data": {
      "image/png": "[encoded data removed]",
      "text/plain": [
       "<Figure size 432x288 with 1 Axes>"
      ]
     },
     "metadata": {
      "needs_background": "light"
     },
     "output_type": "display_data"
    }
   ],
   "source": [
    "plt.hist(data.Temp, rwidth= 0.9)\n",
    "plt.xlabel(\"Temp\")\n",
    "plt.ylabel(\"Freq\")\n",
    "plt.title(\"Temp~Hist\");"
   ]
  },
  {
   "cell_type": "markdown",
   "id": "fatal-optimum",
   "metadata": {},
   "source": [
    "Again Temperature histogram is left skewed. which shows that mean is lower than median. as shown below."
   ]
  },
  {
   "cell_type": "code",
   "execution_count": 15,
   "id": "guided-laser",
   "metadata": {},
   "outputs": [
    {
     "data": {
      "text/plain": [
       "count    153.000000\n",
       "mean      77.882353\n",
       "std        9.465270\n",
       "min       56.000000\n",
       "25%       72.000000\n",
       "50%       79.000000\n",
       "75%       85.000000\n",
       "max       97.000000\n",
       "Name: Temp, dtype: float64"
      ]
     },
     "execution_count": 15,
     "metadata": {},
     "output_type": "execute_result"
    }
   ],
   "source": [
    "data.Temp.describe()"
   ]
  },
  {
   "cell_type": "markdown",
   "id": "agricultural-record",
   "metadata": {},
   "source": [
    "### Now Let's understand the correlation between the parameters"
   ]
  },
  {
   "cell_type": "code",
   "execution_count": 16,
   "id": "filled-federal",
   "metadata": {},
   "outputs": [],
   "source": [
    "from numpy import corrcoef\n",
    "import scipy.stats"
   ]
  },
  {
   "cell_type": "code",
   "execution_count": 18,
   "id": "virtual-correlation",
   "metadata": {
    "scrolled": false
   },
   "outputs": [
    {
     "data": {
      "image/png": "[encoded data removed]",
      "text/plain": [
       "<Figure size 432x288 with 1 Axes>"
      ]
     },
     "metadata": {
      "needs_background": "light"
     },
     "output_type": "display_data"
    }
   ],
   "source": [
    "plt.scatter(data.Temp,data.Ozone);\n",
    "plt.xlabel(\"Temp\")\n",
    "plt.ylabel(\"Ozone\")\n",
    "plt.title(\"Temp~Ozone\");"
   ]
  },
  {
   "cell_type": "markdown",
   "id": "caring-courtesy",
   "metadata": {},
   "source": [
    "From the above diagram, we can observe that, after a certain point of increase in the value of Temperature (i.e.75), the value of Ozone will be linearly increasing with it. And thus there will be a positive correlation between Ozone and Temperature values. The value of correlation coefficient(r) is shown below which is positive. Also note there are few outliers which we can determine through the box plot."
   ]
  },
  {
   "cell_type": "code",
   "execution_count": 19,
   "id": "spare-montreal",
   "metadata": {},
   "outputs": [
    {
     "name": "stdout",
     "output_type": "stream",
     "text": [
      "r= 0.6025170778312053\n",
      "p= 1.7300640439249783e-16\n"
     ]
    }
   ],
   "source": [
    "cor= scipy.stats.pearsonr(data.Temp,data.Ozone)\n",
    "r= cor[0]\n",
    "p=cor[1]\n",
    "print(\"r=\",r)\n",
    "print(\"p=\",p)"
   ]
  },
  {
   "cell_type": "code",
   "execution_count": 20,
   "id": "metropolitan-lexington",
   "metadata": {},
   "outputs": [
    {
     "data": {
      "image/png": "[encoded data removed]",
      "text/plain": [
       "<Figure size 432x288 with 1 Axes>"
      ]
     },
     "metadata": {
      "needs_background": "light"
     },
     "output_type": "display_data"
    }
   ],
   "source": [
    "plt.scatter(data.Temp,data.Solar)\n",
    "plt.xlabel(\"Temp\")\n",
    "plt.ylabel(\"Solar\")\n",
    "plt.title(\"Temp~Solar\");"
   ]
  },
  {
   "cell_type": "markdown",
   "id": "previous-samba",
   "metadata": {},
   "source": [
    "By observing the above graph we can conclude that, temperature and solar is into positive correlation but correlation value between the 2 variables will be very weak as the points are highly scattered."
   ]
  },
  {
   "cell_type": "code",
   "execution_count": 21,
   "id": "spectacular-blocking",
   "metadata": {},
   "outputs": [
    {
     "name": "stdout",
     "output_type": "stream",
     "text": [
      "r= 0.22984300702676247\n",
      "p= 0.004262505924867688\n"
     ]
    }
   ],
   "source": [
    "cor= scipy.stats.pearsonr(data.Temp,data.Solar)\n",
    "r= cor[0]\n",
    "p=cor[1]\n",
    "print(\"r=\",r)\n",
    "print(\"p=\",p)"
   ]
  },
  {
   "cell_type": "code",
   "execution_count": 22,
   "id": "numerous-craps",
   "metadata": {},
   "outputs": [
    {
     "data": {
      "image/png": "[encoded data removed]",
      "text/plain": [
       "<Figure size 432x288 with 1 Axes>"
      ]
     },
     "metadata": {
      "needs_background": "light"
     },
     "output_type": "display_data"
    }
   ],
   "source": [
    "plt.scatter(data.Temp,data.Wind);\n",
    "plt.xlabel(\"Temp\")\n",
    "plt.ylabel(\"Wind\")\n",
    "plt.title(\"Temp~Wind\");"
   ]
  },
  {
   "cell_type": "markdown",
   "id": "formed-intellectual",
   "metadata": {},
   "source": [
    "As observed from the above graph, both the variables are into negation correlation with each other. thus as the temperature increases the wind level decreases. Thus, the value of r between them will be negative as below."
   ]
  },
  {
   "cell_type": "code",
   "execution_count": 23,
   "id": "rubber-charge",
   "metadata": {},
   "outputs": [
    {
     "name": "stdout",
     "output_type": "stream",
     "text": [
      "r= -0.45798787910483296\n",
      "p= 2.6415972043405178e-09\n"
     ]
    }
   ],
   "source": [
    "cor= scipy.stats.pearsonr(data.Temp,data.Wind)\n",
    "r= cor[0]\n",
    "p=cor[1]\n",
    "print(\"r=\",r)\n",
    "print(\"p=\",p)"
   ]
  },
  {
   "cell_type": "code",
   "execution_count": 51,
   "id": "precise-opening",
   "metadata": {},
   "outputs": [
    {
     "data": {
      "image/png": "[encoded data removed]",
      "text/plain": [
       "<Figure size 432x288 with 1 Axes>"
      ]
     },
     "metadata": {
      "needs_background": "light"
     },
     "output_type": "display_data"
    }
   ],
   "source": [
    "new_data = data[data.Month == 5]                              ##Filtered by month to analyse monthly effect\n",
    "plt.scatter(new_data.Temp,new_data.Wind);\n",
    "plt.xlabel(\"Temp\")\n",
    "plt.ylabel(\"Wind\")\n",
    "plt.title(\"Single Month Correlation graph\");"
   ]
  }
 ],
 "metadata": {
  "kernelspec": {
   "display_name": "Python 3",
   "language": "python",
   "name": "python3"
  },
  "language_info": {
   "codemirror_mode": {
    "name": "ipython",
    "version": 3
   },
   "file_extension": ".py",
   "mimetype": "text/x-python",
   "name": "python",
   "nbconvert_exporter": "python",
   "pygments_lexer": "ipython3",
   "version": "3.9.2"
  }
 },
 "nbformat": 4,
 "nbformat_minor": 5
}
