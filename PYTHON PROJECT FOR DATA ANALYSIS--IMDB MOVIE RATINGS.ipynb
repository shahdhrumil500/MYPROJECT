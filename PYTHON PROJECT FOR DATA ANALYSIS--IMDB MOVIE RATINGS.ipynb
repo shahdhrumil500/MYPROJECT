{
 "cells": [
  {
   "cell_type": "markdown",
   "id": "together-granny",
   "metadata": {},
   "source": [
    "# IMDB MOVIE RATINGS ANALYSIS"
   ]
  },
  {
   "cell_type": "code",
   "execution_count": 92,
   "id": "architectural-anaheim",
   "metadata": {},
   "outputs": [],
   "source": [
    "import pandas as pd\n",
    "import numpy as np\n",
    "import matplotlib.pyplot as plt\n",
    "%matplotlib inline"
   ]
  },
  {
   "cell_type": "code",
   "execution_count": 93,
   "id": "dried-marking",
   "metadata": {},
   "outputs": [],
   "source": [
    "from numpy import corrcoef\n",
    "import scipy.stats"
   ]
  },
  {
   "cell_type": "code",
   "execution_count": 94,
   "id": "surrounded-grenada",
   "metadata": {},
   "outputs": [
    {
     "data": {
      "text/html": [
       "<div>\n",
       "<style scoped>\n",
       "    .dataframe tbody tr th:only-of-type {\n",
       "        vertical-align: middle;\n",
       "    }\n",
       "\n",
       "    .dataframe tbody tr th {\n",
       "        vertical-align: top;\n",
       "    }\n",
       "\n",
       "    .dataframe thead th {\n",
       "        text-align: right;\n",
       "    }\n",
       "</style>\n",
       "<table border=\"1\" class=\"dataframe\">\n",
       "  <thead>\n",
       "    <tr style=\"text-align: right;\">\n",
       "      <th></th>\n",
       "      <th>Poster_Link</th>\n",
       "      <th>Series_Title</th>\n",
       "      <th>Released_Year</th>\n",
       "      <th>Certificate</th>\n",
       "      <th>Runtime</th>\n",
       "      <th>Genre</th>\n",
       "      <th>IMDB_Rating</th>\n",
       "      <th>Overview</th>\n",
       "      <th>Meta_score</th>\n",
       "      <th>Director</th>\n",
       "      <th>Star1</th>\n",
       "      <th>Star2</th>\n",
       "      <th>Star3</th>\n",
       "      <th>Star4</th>\n",
       "      <th>No_of_Votes</th>\n",
       "      <th>Gross</th>\n",
       "    </tr>\n",
       "  </thead>\n",
       "  <tbody>\n",
       "    <tr>\n",
       "      <th>0</th>\n",
       "      <td>https://m.media-amazon.com/images/M/MV5BMDFkYT...</td>\n",
       "      <td>The Shawshank Redemption</td>\n",
       "      <td>1994</td>\n",
       "      <td>A</td>\n",
       "      <td>142 min</td>\n",
       "      <td>Drama</td>\n",
       "      <td>9.3</td>\n",
       "      <td>Two imprisoned men bond over a number of years...</td>\n",
       "      <td>80.0</td>\n",
       "      <td>Frank Darabont</td>\n",
       "      <td>Tim Robbins</td>\n",
       "      <td>Morgan Freeman</td>\n",
       "      <td>Bob Gunton</td>\n",
       "      <td>William Sadler</td>\n",
       "      <td>2343110</td>\n",
       "      <td>28,341,469</td>\n",
       "    </tr>\n",
       "    <tr>\n",
       "      <th>1</th>\n",
       "      <td>https://m.media-amazon.com/images/M/MV5BM2MyNj...</td>\n",
       "      <td>The Godfather</td>\n",
       "      <td>1972</td>\n",
       "      <td>A</td>\n",
       "      <td>175 min</td>\n",
       "      <td>Crime, Drama</td>\n",
       "      <td>9.2</td>\n",
       "      <td>An organized crime dynasty's aging patriarch t...</td>\n",
       "      <td>100.0</td>\n",
       "      <td>Francis Ford Coppola</td>\n",
       "      <td>Marlon Brando</td>\n",
       "      <td>Al Pacino</td>\n",
       "      <td>James Caan</td>\n",
       "      <td>Diane Keaton</td>\n",
       "      <td>1620367</td>\n",
       "      <td>134,966,411</td>\n",
       "    </tr>\n",
       "    <tr>\n",
       "      <th>2</th>\n",
       "      <td>https://m.media-amazon.com/images/M/MV5BMTMxNT...</td>\n",
       "      <td>The Dark Knight</td>\n",
       "      <td>2008</td>\n",
       "      <td>UA</td>\n",
       "      <td>152 min</td>\n",
       "      <td>Action, Crime, Drama</td>\n",
       "      <td>9.0</td>\n",
       "      <td>When the menace known as the Joker wreaks havo...</td>\n",
       "      <td>84.0</td>\n",
       "      <td>Christopher Nolan</td>\n",
       "      <td>Christian Bale</td>\n",
       "      <td>Heath Ledger</td>\n",
       "      <td>Aaron Eckhart</td>\n",
       "      <td>Michael Caine</td>\n",
       "      <td>2303232</td>\n",
       "      <td>534,858,444</td>\n",
       "    </tr>\n",
       "  </tbody>\n",
       "</table>\n",
       "</div>"
      ],
      "text/plain": [
       "                                         Poster_Link  \\\n",
       "0  https://m.media-amazon.com/images/M/MV5BMDFkYT...   \n",
       "1  https://m.media-amazon.com/images/M/MV5BM2MyNj...   \n",
       "2  https://m.media-amazon.com/images/M/MV5BMTMxNT...   \n",
       "\n",
       "               Series_Title Released_Year Certificate  Runtime  \\\n",
       "0  The Shawshank Redemption          1994           A  142 min   \n",
       "1             The Godfather          1972           A  175 min   \n",
       "2           The Dark Knight          2008          UA  152 min   \n",
       "\n",
       "                  Genre  IMDB_Rating  \\\n",
       "0                 Drama          9.3   \n",
       "1          Crime, Drama          9.2   \n",
       "2  Action, Crime, Drama          9.0   \n",
       "\n",
       "                                            Overview  Meta_score  \\\n",
       "0  Two imprisoned men bond over a number of years...        80.0   \n",
       "1  An organized crime dynasty's aging patriarch t...       100.0   \n",
       "2  When the menace known as the Joker wreaks havo...        84.0   \n",
       "\n",
       "               Director           Star1           Star2          Star3  \\\n",
       "0        Frank Darabont     Tim Robbins  Morgan Freeman     Bob Gunton   \n",
       "1  Francis Ford Coppola   Marlon Brando       Al Pacino     James Caan   \n",
       "2     Christopher Nolan  Christian Bale    Heath Ledger  Aaron Eckhart   \n",
       "\n",
       "            Star4  No_of_Votes        Gross  \n",
       "0  William Sadler      2343110   28,341,469  \n",
       "1    Diane Keaton      1620367  134,966,411  \n",
       "2   Michael Caine      2303232  534,858,444  "
      ]
     },
     "execution_count": 94,
     "metadata": {},
     "output_type": "execute_result"
    }
   ],
   "source": [
    "## Reading the data\n",
    "\n",
    "data= pd.read_csv(\".../r/imdb_top_1000.csv\")\n",
    "data.head(3)"
   ]
  },
  {
   "cell_type": "code",
   "execution_count": 95,
   "id": "recorded-paintball",
   "metadata": {},
   "outputs": [
    {
     "data": {
      "text/plain": [
       "(1000, 16)"
      ]
     },
     "execution_count": 95,
     "metadata": {},
     "output_type": "execute_result"
    }
   ],
   "source": [
    "data.shape      #Determining the dimention of data"
   ]
  },
  {
   "cell_type": "code",
   "execution_count": 96,
   "id": "surrounded-spencer",
   "metadata": {},
   "outputs": [
    {
     "data": {
      "text/plain": [
       "Index(['Poster_Link', 'Series_Title', 'Released_Year', 'Certificate',\n",
       "       'Runtime', 'Genre', 'IMDB_Rating', 'Overview', 'Meta_score', 'Director',\n",
       "       'Star1', 'Star2', 'Star3', 'Star4', 'No_of_Votes', 'Gross'],\n",
       "      dtype='object')"
      ]
     },
     "execution_count": 96,
     "metadata": {},
     "output_type": "execute_result"
    }
   ],
   "source": [
    "data.columns     #Brief view of columns headings"
   ]
  },
  {
   "cell_type": "markdown",
   "id": "alien-johnson",
   "metadata": {},
   "source": [
    "## Data Cleaning"
   ]
  },
  {
   "cell_type": "code",
   "execution_count": 97,
   "id": "funky-gazette",
   "metadata": {},
   "outputs": [
    {
     "data": {
      "text/plain": [
       "Poster_Link        0\n",
       "Series_Title       0\n",
       "Released_Year      0\n",
       "Certificate      101\n",
       "Runtime            0\n",
       "Genre              0\n",
       "IMDB_Rating        0\n",
       "Overview           0\n",
       "Meta_score       157\n",
       "Director           0\n",
       "Star1              0\n",
       "Star2              0\n",
       "Star3              0\n",
       "Star4              0\n",
       "No_of_Votes        0\n",
       "Gross            169\n",
       "dtype: int64"
      ]
     },
     "execution_count": 97,
     "metadata": {},
     "output_type": "execute_result"
    }
   ],
   "source": [
    "data.isnull().sum()           #To determine if any null values in the data"
   ]
  },
  {
   "cell_type": "code",
   "execution_count": 98,
   "id": "french-holder",
   "metadata": {},
   "outputs": [],
   "source": [
    "##Filling the null values in each columns\n",
    "data.Meta_score.fillna(method= 'ffill', inplace= True)\n",
    "data.Certificate.fillna(value=0,inplace= True)\n",
    "data.Gross.fillna(method= 'ffill',inplace= True)"
   ]
  },
  {
   "cell_type": "code",
   "execution_count": 99,
   "id": "smaller-young",
   "metadata": {},
   "outputs": [
    {
     "data": {
      "text/plain": [
       "Poster_Link      0\n",
       "Series_Title     0\n",
       "Released_Year    0\n",
       "Certificate      0\n",
       "Runtime          0\n",
       "Genre            0\n",
       "IMDB_Rating      0\n",
       "Overview         0\n",
       "Meta_score       0\n",
       "Director         0\n",
       "Star1            0\n",
       "Star2            0\n",
       "Star3            0\n",
       "Star4            0\n",
       "No_of_Votes      0\n",
       "Gross            0\n",
       "dtype: int64"
      ]
     },
     "execution_count": 99,
     "metadata": {},
     "output_type": "execute_result"
    }
   ],
   "source": [
    "data.isnull().sum()               #Reconfirming for the null values"
   ]
  },
  {
   "cell_type": "markdown",
   "id": "purple-johnson",
   "metadata": {},
   "source": [
    "So as of now all null values are removed from the columns.Next step we will perfom is to standardinze each columns and thus cleaning the data."
   ]
  },
  {
   "cell_type": "code",
   "execution_count": 100,
   "id": "brutal-genius",
   "metadata": {},
   "outputs": [
    {
     "data": {
      "text/html": [
       "<div>\n",
       "<style scoped>\n",
       "    .dataframe tbody tr th:only-of-type {\n",
       "        vertical-align: middle;\n",
       "    }\n",
       "\n",
       "    .dataframe tbody tr th {\n",
       "        vertical-align: top;\n",
       "    }\n",
       "\n",
       "    .dataframe thead th {\n",
       "        text-align: right;\n",
       "    }\n",
       "</style>\n",
       "<table border=\"1\" class=\"dataframe\">\n",
       "  <thead>\n",
       "    <tr style=\"text-align: right;\">\n",
       "      <th></th>\n",
       "      <th>Poster_Link</th>\n",
       "      <th>Series_Title</th>\n",
       "      <th>Released_Year</th>\n",
       "      <th>Certificate</th>\n",
       "      <th>Runtime</th>\n",
       "      <th>Genre</th>\n",
       "      <th>IMDB_Rating</th>\n",
       "      <th>Overview</th>\n",
       "      <th>Meta_score</th>\n",
       "      <th>Director</th>\n",
       "      <th>Star1</th>\n",
       "      <th>Star2</th>\n",
       "      <th>Star3</th>\n",
       "      <th>Star4</th>\n",
       "      <th>No_of_Votes</th>\n",
       "      <th>Gross</th>\n",
       "      <th>0</th>\n",
       "      <th>1</th>\n",
       "    </tr>\n",
       "  </thead>\n",
       "  <tbody>\n",
       "    <tr>\n",
       "      <th>0</th>\n",
       "      <td>https://m.media-amazon.com/images/M/MV5BMDFkYT...</td>\n",
       "      <td>The Shawshank Redemption</td>\n",
       "      <td>1994</td>\n",
       "      <td>A</td>\n",
       "      <td>142 min</td>\n",
       "      <td>Drama</td>\n",
       "      <td>9.3</td>\n",
       "      <td>Two imprisoned men bond over a number of years...</td>\n",
       "      <td>80.0</td>\n",
       "      <td>Frank Darabont</td>\n",
       "      <td>Tim Robbins</td>\n",
       "      <td>Morgan Freeman</td>\n",
       "      <td>Bob Gunton</td>\n",
       "      <td>William Sadler</td>\n",
       "      <td>2343110</td>\n",
       "      <td>28,341,469</td>\n",
       "      <td>142</td>\n",
       "      <td>min</td>\n",
       "    </tr>\n",
       "    <tr>\n",
       "      <th>1</th>\n",
       "      <td>https://m.media-amazon.com/images/M/MV5BM2MyNj...</td>\n",
       "      <td>The Godfather</td>\n",
       "      <td>1972</td>\n",
       "      <td>A</td>\n",
       "      <td>175 min</td>\n",
       "      <td>Crime, Drama</td>\n",
       "      <td>9.2</td>\n",
       "      <td>An organized crime dynasty's aging patriarch t...</td>\n",
       "      <td>100.0</td>\n",
       "      <td>Francis Ford Coppola</td>\n",
       "      <td>Marlon Brando</td>\n",
       "      <td>Al Pacino</td>\n",
       "      <td>James Caan</td>\n",
       "      <td>Diane Keaton</td>\n",
       "      <td>1620367</td>\n",
       "      <td>134,966,411</td>\n",
       "      <td>175</td>\n",
       "      <td>min</td>\n",
       "    </tr>\n",
       "    <tr>\n",
       "      <th>2</th>\n",
       "      <td>https://m.media-amazon.com/images/M/MV5BMTMxNT...</td>\n",
       "      <td>The Dark Knight</td>\n",
       "      <td>2008</td>\n",
       "      <td>UA</td>\n",
       "      <td>152 min</td>\n",
       "      <td>Action, Crime, Drama</td>\n",
       "      <td>9.0</td>\n",
       "      <td>When the menace known as the Joker wreaks havo...</td>\n",
       "      <td>84.0</td>\n",
       "      <td>Christopher Nolan</td>\n",
       "      <td>Christian Bale</td>\n",
       "      <td>Heath Ledger</td>\n",
       "      <td>Aaron Eckhart</td>\n",
       "      <td>Michael Caine</td>\n",
       "      <td>2303232</td>\n",
       "      <td>534,858,444</td>\n",
       "      <td>152</td>\n",
       "      <td>min</td>\n",
       "    </tr>\n",
       "  </tbody>\n",
       "</table>\n",
       "</div>"
      ],
      "text/plain": [
       "                                         Poster_Link  \\\n",
       "0  https://m.media-amazon.com/images/M/MV5BMDFkYT...   \n",
       "1  https://m.media-amazon.com/images/M/MV5BM2MyNj...   \n",
       "2  https://m.media-amazon.com/images/M/MV5BMTMxNT...   \n",
       "\n",
       "               Series_Title Released_Year Certificate  Runtime  \\\n",
       "0  The Shawshank Redemption          1994           A  142 min   \n",
       "1             The Godfather          1972           A  175 min   \n",
       "2           The Dark Knight          2008          UA  152 min   \n",
       "\n",
       "                  Genre  IMDB_Rating  \\\n",
       "0                 Drama          9.3   \n",
       "1          Crime, Drama          9.2   \n",
       "2  Action, Crime, Drama          9.0   \n",
       "\n",
       "                                            Overview  Meta_score  \\\n",
       "0  Two imprisoned men bond over a number of years...        80.0   \n",
       "1  An organized crime dynasty's aging patriarch t...       100.0   \n",
       "2  When the menace known as the Joker wreaks havo...        84.0   \n",
       "\n",
       "               Director           Star1           Star2          Star3  \\\n",
       "0        Frank Darabont     Tim Robbins  Morgan Freeman     Bob Gunton   \n",
       "1  Francis Ford Coppola   Marlon Brando       Al Pacino     James Caan   \n",
       "2     Christopher Nolan  Christian Bale    Heath Ledger  Aaron Eckhart   \n",
       "\n",
       "            Star4  No_of_Votes        Gross    0    1  \n",
       "0  William Sadler      2343110   28,341,469  142  min  \n",
       "1    Diane Keaton      1620367  134,966,411  175  min  \n",
       "2   Michael Caine      2303232  534,858,444  152  min  "
      ]
     },
     "execution_count": 100,
     "metadata": {},
     "output_type": "execute_result"
    }
   ],
   "source": [
    "ndata= data.Runtime.str.split(expand= True)      ##Splitting a column into 2...and then concat both with the original data.\n",
    "data= pd.concat([data,ndata],axis= 1)\n",
    "data.head(3)"
   ]
  },
  {
   "cell_type": "markdown",
   "id": "national-agreement",
   "metadata": {},
   "source": [
    "The reason to perform this step is to remove string elements from the column....thus we can use \"Runtime\" column during further analysis part"
   ]
  },
  {
   "cell_type": "code",
   "execution_count": 101,
   "id": "active-latter",
   "metadata": {
    "scrolled": true
   },
   "outputs": [
    {
     "data": {
      "text/plain": [
       "Index([  'Poster_Link',  'Series_Title', 'Released_Year',   'Certificate',\n",
       "               'Genre',   'IMDB_Rating',      'Overview',    'Meta_score',\n",
       "            'Director',         'Star1',         'Star2',         'Star3',\n",
       "               'Star4',   'No_of_Votes',         'Gross',               0],\n",
       "      dtype='object')"
      ]
     },
     "execution_count": 101,
     "metadata": {},
     "output_type": "execute_result"
    }
   ],
   "source": [
    "data.drop(['Runtime',1], axis= 1, inplace= True)    #To drop the unnecessary columns\n",
    "data.columns"
   ]
  },
  {
   "cell_type": "markdown",
   "id": "meaning-graph",
   "metadata": {},
   "source": [
    "Here we had removed \"Runtime\" and \"1\" column as we had successfully seperated the integer part from it....that are displayed in \"0\" column. Now we can further change the dimentions from minutes to hours as below. "
   ]
  },
  {
   "cell_type": "code",
   "execution_count": 102,
   "id": "collected-reflection",
   "metadata": {
    "scrolled": true
   },
   "outputs": [
    {
     "data": {
      "text/html": [
       "<div>\n",
       "<style scoped>\n",
       "    .dataframe tbody tr th:only-of-type {\n",
       "        vertical-align: middle;\n",
       "    }\n",
       "\n",
       "    .dataframe tbody tr th {\n",
       "        vertical-align: top;\n",
       "    }\n",
       "\n",
       "    .dataframe thead th {\n",
       "        text-align: right;\n",
       "    }\n",
       "</style>\n",
       "<table border=\"1\" class=\"dataframe\">\n",
       "  <thead>\n",
       "    <tr style=\"text-align: right;\">\n",
       "      <th></th>\n",
       "      <th>Poster_Link</th>\n",
       "      <th>Series_Title</th>\n",
       "      <th>Released_Year</th>\n",
       "      <th>Certificate</th>\n",
       "      <th>Genre</th>\n",
       "      <th>IMDB_Rating</th>\n",
       "      <th>Overview</th>\n",
       "      <th>Meta_score</th>\n",
       "      <th>Director</th>\n",
       "      <th>Star1</th>\n",
       "      <th>Star2</th>\n",
       "      <th>Star3</th>\n",
       "      <th>Star4</th>\n",
       "      <th>No_of_Votes</th>\n",
       "      <th>Gross</th>\n",
       "      <th>Time_hrs</th>\n",
       "    </tr>\n",
       "  </thead>\n",
       "  <tbody>\n",
       "    <tr>\n",
       "      <th>0</th>\n",
       "      <td>https://m.media-amazon.com/images/M/MV5BMDFkYT...</td>\n",
       "      <td>The Shawshank Redemption</td>\n",
       "      <td>1994</td>\n",
       "      <td>A</td>\n",
       "      <td>Drama</td>\n",
       "      <td>9.3</td>\n",
       "      <td>Two imprisoned men bond over a number of years...</td>\n",
       "      <td>80.0</td>\n",
       "      <td>Frank Darabont</td>\n",
       "      <td>Tim Robbins</td>\n",
       "      <td>Morgan Freeman</td>\n",
       "      <td>Bob Gunton</td>\n",
       "      <td>William Sadler</td>\n",
       "      <td>2343110</td>\n",
       "      <td>28,341,469</td>\n",
       "      <td>2.37</td>\n",
       "    </tr>\n",
       "    <tr>\n",
       "      <th>1</th>\n",
       "      <td>https://m.media-amazon.com/images/M/MV5BM2MyNj...</td>\n",
       "      <td>The Godfather</td>\n",
       "      <td>1972</td>\n",
       "      <td>A</td>\n",
       "      <td>Crime, Drama</td>\n",
       "      <td>9.2</td>\n",
       "      <td>An organized crime dynasty's aging patriarch t...</td>\n",
       "      <td>100.0</td>\n",
       "      <td>Francis Ford Coppola</td>\n",
       "      <td>Marlon Brando</td>\n",
       "      <td>Al Pacino</td>\n",
       "      <td>James Caan</td>\n",
       "      <td>Diane Keaton</td>\n",
       "      <td>1620367</td>\n",
       "      <td>134,966,411</td>\n",
       "      <td>2.92</td>\n",
       "    </tr>\n",
       "    <tr>\n",
       "      <th>2</th>\n",
       "      <td>https://m.media-amazon.com/images/M/MV5BMTMxNT...</td>\n",
       "      <td>The Dark Knight</td>\n",
       "      <td>2008</td>\n",
       "      <td>UA</td>\n",
       "      <td>Action, Crime, Drama</td>\n",
       "      <td>9.0</td>\n",
       "      <td>When the menace known as the Joker wreaks havo...</td>\n",
       "      <td>84.0</td>\n",
       "      <td>Christopher Nolan</td>\n",
       "      <td>Christian Bale</td>\n",
       "      <td>Heath Ledger</td>\n",
       "      <td>Aaron Eckhart</td>\n",
       "      <td>Michael Caine</td>\n",
       "      <td>2303232</td>\n",
       "      <td>534,858,444</td>\n",
       "      <td>2.53</td>\n",
       "    </tr>\n",
       "  </tbody>\n",
       "</table>\n",
       "</div>"
      ],
      "text/plain": [
       "                                         Poster_Link  \\\n",
       "0  https://m.media-amazon.com/images/M/MV5BMDFkYT...   \n",
       "1  https://m.media-amazon.com/images/M/MV5BM2MyNj...   \n",
       "2  https://m.media-amazon.com/images/M/MV5BMTMxNT...   \n",
       "\n",
       "               Series_Title Released_Year Certificate                 Genre  \\\n",
       "0  The Shawshank Redemption          1994           A                 Drama   \n",
       "1             The Godfather          1972           A          Crime, Drama   \n",
       "2           The Dark Knight          2008          UA  Action, Crime, Drama   \n",
       "\n",
       "   IMDB_Rating                                           Overview  Meta_score  \\\n",
       "0          9.3  Two imprisoned men bond over a number of years...        80.0   \n",
       "1          9.2  An organized crime dynasty's aging patriarch t...       100.0   \n",
       "2          9.0  When the menace known as the Joker wreaks havo...        84.0   \n",
       "\n",
       "               Director           Star1           Star2          Star3  \\\n",
       "0        Frank Darabont     Tim Robbins  Morgan Freeman     Bob Gunton   \n",
       "1  Francis Ford Coppola   Marlon Brando       Al Pacino     James Caan   \n",
       "2     Christopher Nolan  Christian Bale    Heath Ledger  Aaron Eckhart   \n",
       "\n",
       "            Star4  No_of_Votes        Gross  Time_hrs  \n",
       "0  William Sadler      2343110   28,341,469      2.37  \n",
       "1    Diane Keaton      1620367  134,966,411      2.92  \n",
       "2   Michael Caine      2303232  534,858,444      2.53  "
      ]
     },
     "execution_count": 102,
     "metadata": {},
     "output_type": "execute_result"
    }
   ],
   "source": [
    "data.rename(columns={0:'Time_hrs'}, inplace= True)                       #Renaming the \"0\" column\n",
    "data.Time_hrs=(data.Time_hrs.astype(float)/60).astype(float).round(2)        #Coverting from minutes to hours.\n",
    "data.head(3)"
   ]
  },
  {
   "cell_type": "markdown",
   "id": "emotional-disposal",
   "metadata": {},
   "source": [
    "Now further we can see that \"Gross\" column consists of \",\" between the digits. This can make difficult to perform any operations on it. so we have to remove it and make it an integer number....currently it will be counted as strings."
   ]
  },
  {
   "cell_type": "code",
   "execution_count": 103,
   "id": "liable-essex",
   "metadata": {
    "scrolled": true
   },
   "outputs": [
    {
     "data": {
      "text/plain": [
       "0       28341469\n",
       "1      134966411\n",
       "2      534858444\n",
       "3       57300000\n",
       "4        4360000\n",
       "         ...    \n",
       "995     13780024\n",
       "996     13780024\n",
       "997     30500000\n",
       "998     30500000\n",
       "999     30500000\n",
       "Length: 1000, dtype: object"
      ]
     },
     "execution_count": 103,
     "metadata": {},
     "output_type": "execute_result"
    }
   ],
   "source": [
    "s= data.Gross.str.split(pat=\",\",expand=True)\n",
    "g=s[0]+\"\"+s[1]+\"\"+s[2]\n",
    "g"
   ]
  },
  {
   "cell_type": "markdown",
   "id": "coral-earth",
   "metadata": {},
   "source": [
    "As we can see that here all the \",\" are removed"
   ]
  },
  {
   "cell_type": "code",
   "execution_count": 104,
   "id": "voluntary-adoption",
   "metadata": {},
   "outputs": [],
   "source": [
    "data=pd.concat([data,g],axis=1)                         #Concat the new column\n",
    "data.drop(['Gross'], axis= 1, inplace= True)            #Delete the unnecessary column to avoid repeatations."
   ]
  },
  {
   "cell_type": "code",
   "execution_count": 105,
   "id": "prompt-prerequisite",
   "metadata": {},
   "outputs": [
    {
     "data": {
      "text/html": [
       "<div>\n",
       "<style scoped>\n",
       "    .dataframe tbody tr th:only-of-type {\n",
       "        vertical-align: middle;\n",
       "    }\n",
       "\n",
       "    .dataframe tbody tr th {\n",
       "        vertical-align: top;\n",
       "    }\n",
       "\n",
       "    .dataframe thead th {\n",
       "        text-align: right;\n",
       "    }\n",
       "</style>\n",
       "<table border=\"1\" class=\"dataframe\">\n",
       "  <thead>\n",
       "    <tr style=\"text-align: right;\">\n",
       "      <th></th>\n",
       "      <th>Poster_Link</th>\n",
       "      <th>Series_Title</th>\n",
       "      <th>Released_Year</th>\n",
       "      <th>Certificate</th>\n",
       "      <th>Genre</th>\n",
       "      <th>IMDB_Rating</th>\n",
       "      <th>Overview</th>\n",
       "      <th>Meta_score</th>\n",
       "      <th>Director</th>\n",
       "      <th>Star1</th>\n",
       "      <th>Star2</th>\n",
       "      <th>Star3</th>\n",
       "      <th>Star4</th>\n",
       "      <th>No_of_Votes</th>\n",
       "      <th>Time_hrs</th>\n",
       "      <th>0</th>\n",
       "    </tr>\n",
       "  </thead>\n",
       "  <tbody>\n",
       "    <tr>\n",
       "      <th>0</th>\n",
       "      <td>https://m.media-amazon.com/images/M/MV5BMDFkYT...</td>\n",
       "      <td>The Shawshank Redemption</td>\n",
       "      <td>1994</td>\n",
       "      <td>A</td>\n",
       "      <td>Drama</td>\n",
       "      <td>9.3</td>\n",
       "      <td>Two imprisoned men bond over a number of years...</td>\n",
       "      <td>80.0</td>\n",
       "      <td>Frank Darabont</td>\n",
       "      <td>Tim Robbins</td>\n",
       "      <td>Morgan Freeman</td>\n",
       "      <td>Bob Gunton</td>\n",
       "      <td>William Sadler</td>\n",
       "      <td>2343110</td>\n",
       "      <td>2.37</td>\n",
       "      <td>28341469</td>\n",
       "    </tr>\n",
       "    <tr>\n",
       "      <th>1</th>\n",
       "      <td>https://m.media-amazon.com/images/M/MV5BM2MyNj...</td>\n",
       "      <td>The Godfather</td>\n",
       "      <td>1972</td>\n",
       "      <td>A</td>\n",
       "      <td>Crime, Drama</td>\n",
       "      <td>9.2</td>\n",
       "      <td>An organized crime dynasty's aging patriarch t...</td>\n",
       "      <td>100.0</td>\n",
       "      <td>Francis Ford Coppola</td>\n",
       "      <td>Marlon Brando</td>\n",
       "      <td>Al Pacino</td>\n",
       "      <td>James Caan</td>\n",
       "      <td>Diane Keaton</td>\n",
       "      <td>1620367</td>\n",
       "      <td>2.92</td>\n",
       "      <td>134966411</td>\n",
       "    </tr>\n",
       "    <tr>\n",
       "      <th>2</th>\n",
       "      <td>https://m.media-amazon.com/images/M/MV5BMTMxNT...</td>\n",
       "      <td>The Dark Knight</td>\n",
       "      <td>2008</td>\n",
       "      <td>UA</td>\n",
       "      <td>Action, Crime, Drama</td>\n",
       "      <td>9.0</td>\n",
       "      <td>When the menace known as the Joker wreaks havo...</td>\n",
       "      <td>84.0</td>\n",
       "      <td>Christopher Nolan</td>\n",
       "      <td>Christian Bale</td>\n",
       "      <td>Heath Ledger</td>\n",
       "      <td>Aaron Eckhart</td>\n",
       "      <td>Michael Caine</td>\n",
       "      <td>2303232</td>\n",
       "      <td>2.53</td>\n",
       "      <td>534858444</td>\n",
       "    </tr>\n",
       "  </tbody>\n",
       "</table>\n",
       "</div>"
      ],
      "text/plain": [
       "                                         Poster_Link  \\\n",
       "0  https://m.media-amazon.com/images/M/MV5BMDFkYT...   \n",
       "1  https://m.media-amazon.com/images/M/MV5BM2MyNj...   \n",
       "2  https://m.media-amazon.com/images/M/MV5BMTMxNT...   \n",
       "\n",
       "               Series_Title Released_Year Certificate                 Genre  \\\n",
       "0  The Shawshank Redemption          1994           A                 Drama   \n",
       "1             The Godfather          1972           A          Crime, Drama   \n",
       "2           The Dark Knight          2008          UA  Action, Crime, Drama   \n",
       "\n",
       "   IMDB_Rating                                           Overview  Meta_score  \\\n",
       "0          9.3  Two imprisoned men bond over a number of years...        80.0   \n",
       "1          9.2  An organized crime dynasty's aging patriarch t...       100.0   \n",
       "2          9.0  When the menace known as the Joker wreaks havo...        84.0   \n",
       "\n",
       "               Director           Star1           Star2          Star3  \\\n",
       "0        Frank Darabont     Tim Robbins  Morgan Freeman     Bob Gunton   \n",
       "1  Francis Ford Coppola   Marlon Brando       Al Pacino     James Caan   \n",
       "2     Christopher Nolan  Christian Bale    Heath Ledger  Aaron Eckhart   \n",
       "\n",
       "            Star4  No_of_Votes  Time_hrs          0  \n",
       "0  William Sadler      2343110      2.37   28341469  \n",
       "1    Diane Keaton      1620367      2.92  134966411  \n",
       "2   Michael Caine      2303232      2.53  534858444  "
      ]
     },
     "execution_count": 105,
     "metadata": {},
     "output_type": "execute_result"
    }
   ],
   "source": [
    "data.head(3)"
   ]
  },
  {
   "cell_type": "markdown",
   "id": "fallen-friday",
   "metadata": {},
   "source": [
    "Here we had added the new column to the data and removed the old one with comma values. Now we can rename the column."
   ]
  },
  {
   "cell_type": "code",
   "execution_count": 106,
   "id": "sonic-thumbnail",
   "metadata": {},
   "outputs": [
    {
     "data": {
      "text/plain": [
       "Index(['Poster_Link', 'Series_Title', 'Released_Year', 'Certificate', 'Genre',\n",
       "       'IMDB_Rating', 'Overview', 'Meta_score', 'Director', 'Star1', 'Star2',\n",
       "       'Star3', 'Star4', 'No_of_Votes', 'Time_hrs', 'Gross_bn'],\n",
       "      dtype='object')"
      ]
     },
     "execution_count": 106,
     "metadata": {},
     "output_type": "execute_result"
    }
   ],
   "source": [
    "data.rename(columns={0:\"Gross_bn\"},inplace=True)\n",
    "data.columns"
   ]
  },
  {
   "cell_type": "code",
   "execution_count": 107,
   "id": "sought-exercise",
   "metadata": {},
   "outputs": [],
   "source": [
    "##Convert the column values into billions to simplify the further calculation\n",
    "\n",
    "data.Gross_bn= (data.Gross_bn.astype(float)/10000000).round(1).astype(float)     "
   ]
  },
  {
   "cell_type": "code",
   "execution_count": 108,
   "id": "exempt-timber",
   "metadata": {},
   "outputs": [],
   "source": [
    "##Same thing we will try to do here in order to standardize the both the rating's scale to 10. i.e. IMDB_Rating and Meta_score.\n",
    "\n",
    "data.Meta_score=(data.Meta_score.astype(float)/10).round(1).astype(float)"
   ]
  },
  {
   "cell_type": "code",
   "execution_count": 109,
   "id": "better-wealth",
   "metadata": {},
   "outputs": [
    {
     "data": {
      "text/html": [
       "<div>\n",
       "<style scoped>\n",
       "    .dataframe tbody tr th:only-of-type {\n",
       "        vertical-align: middle;\n",
       "    }\n",
       "\n",
       "    .dataframe tbody tr th {\n",
       "        vertical-align: top;\n",
       "    }\n",
       "\n",
       "    .dataframe thead th {\n",
       "        text-align: right;\n",
       "    }\n",
       "</style>\n",
       "<table border=\"1\" class=\"dataframe\">\n",
       "  <thead>\n",
       "    <tr style=\"text-align: right;\">\n",
       "      <th></th>\n",
       "      <th>Poster_Link</th>\n",
       "      <th>Series_Title</th>\n",
       "      <th>Released_Year</th>\n",
       "      <th>Certificate</th>\n",
       "      <th>Genre</th>\n",
       "      <th>IMDB_Rating</th>\n",
       "      <th>Overview</th>\n",
       "      <th>Meta_score</th>\n",
       "      <th>Director</th>\n",
       "      <th>Star1</th>\n",
       "      <th>Star2</th>\n",
       "      <th>Star3</th>\n",
       "      <th>Star4</th>\n",
       "      <th>No_of_Votes</th>\n",
       "      <th>Time_hrs</th>\n",
       "      <th>Gross_bn</th>\n",
       "    </tr>\n",
       "  </thead>\n",
       "  <tbody>\n",
       "    <tr>\n",
       "      <th>0</th>\n",
       "      <td>https://m.media-amazon.com/images/M/MV5BMDFkYT...</td>\n",
       "      <td>The Shawshank Redemption</td>\n",
       "      <td>1994</td>\n",
       "      <td>A</td>\n",
       "      <td>Drama</td>\n",
       "      <td>9.3</td>\n",
       "      <td>Two imprisoned men bond over a number of years...</td>\n",
       "      <td>8.0</td>\n",
       "      <td>Frank Darabont</td>\n",
       "      <td>Tim Robbins</td>\n",
       "      <td>Morgan Freeman</td>\n",
       "      <td>Bob Gunton</td>\n",
       "      <td>William Sadler</td>\n",
       "      <td>2343110</td>\n",
       "      <td>2.37</td>\n",
       "      <td>2.8</td>\n",
       "    </tr>\n",
       "    <tr>\n",
       "      <th>1</th>\n",
       "      <td>https://m.media-amazon.com/images/M/MV5BM2MyNj...</td>\n",
       "      <td>The Godfather</td>\n",
       "      <td>1972</td>\n",
       "      <td>A</td>\n",
       "      <td>Crime, Drama</td>\n",
       "      <td>9.2</td>\n",
       "      <td>An organized crime dynasty's aging patriarch t...</td>\n",
       "      <td>10.0</td>\n",
       "      <td>Francis Ford Coppola</td>\n",
       "      <td>Marlon Brando</td>\n",
       "      <td>Al Pacino</td>\n",
       "      <td>James Caan</td>\n",
       "      <td>Diane Keaton</td>\n",
       "      <td>1620367</td>\n",
       "      <td>2.92</td>\n",
       "      <td>13.5</td>\n",
       "    </tr>\n",
       "    <tr>\n",
       "      <th>2</th>\n",
       "      <td>https://m.media-amazon.com/images/M/MV5BMTMxNT...</td>\n",
       "      <td>The Dark Knight</td>\n",
       "      <td>2008</td>\n",
       "      <td>UA</td>\n",
       "      <td>Action, Crime, Drama</td>\n",
       "      <td>9.0</td>\n",
       "      <td>When the menace known as the Joker wreaks havo...</td>\n",
       "      <td>8.4</td>\n",
       "      <td>Christopher Nolan</td>\n",
       "      <td>Christian Bale</td>\n",
       "      <td>Heath Ledger</td>\n",
       "      <td>Aaron Eckhart</td>\n",
       "      <td>Michael Caine</td>\n",
       "      <td>2303232</td>\n",
       "      <td>2.53</td>\n",
       "      <td>53.5</td>\n",
       "    </tr>\n",
       "  </tbody>\n",
       "</table>\n",
       "</div>"
      ],
      "text/plain": [
       "                                         Poster_Link  \\\n",
       "0  https://m.media-amazon.com/images/M/MV5BMDFkYT...   \n",
       "1  https://m.media-amazon.com/images/M/MV5BM2MyNj...   \n",
       "2  https://m.media-amazon.com/images/M/MV5BMTMxNT...   \n",
       "\n",
       "               Series_Title Released_Year Certificate                 Genre  \\\n",
       "0  The Shawshank Redemption          1994           A                 Drama   \n",
       "1             The Godfather          1972           A          Crime, Drama   \n",
       "2           The Dark Knight          2008          UA  Action, Crime, Drama   \n",
       "\n",
       "   IMDB_Rating                                           Overview  Meta_score  \\\n",
       "0          9.3  Two imprisoned men bond over a number of years...         8.0   \n",
       "1          9.2  An organized crime dynasty's aging patriarch t...        10.0   \n",
       "2          9.0  When the menace known as the Joker wreaks havo...         8.4   \n",
       "\n",
       "               Director           Star1           Star2          Star3  \\\n",
       "0        Frank Darabont     Tim Robbins  Morgan Freeman     Bob Gunton   \n",
       "1  Francis Ford Coppola   Marlon Brando       Al Pacino     James Caan   \n",
       "2     Christopher Nolan  Christian Bale    Heath Ledger  Aaron Eckhart   \n",
       "\n",
       "            Star4  No_of_Votes  Time_hrs  Gross_bn  \n",
       "0  William Sadler      2343110      2.37       2.8  \n",
       "1    Diane Keaton      1620367      2.92      13.5  \n",
       "2   Michael Caine      2303232      2.53      53.5  "
      ]
     },
     "execution_count": 109,
     "metadata": {},
     "output_type": "execute_result"
    }
   ],
   "source": [
    "data.head(3)"
   ]
  },
  {
   "cell_type": "markdown",
   "id": "convinced-banana",
   "metadata": {},
   "source": [
    "Above table shows both IMDB rating and meta score in a scale of 10 as well as Gross_bn column converted to billions values"
   ]
  },
  {
   "cell_type": "code",
   "execution_count": 110,
   "id": "disturbed-module",
   "metadata": {},
   "outputs": [],
   "source": [
    "##Let's add a new columnas an average rating of both above 2.\n",
    "\n",
    "data['avg_rating']=((data['IMDB_Rating']+data['Meta_score'])/2).round(1).astype(float)"
   ]
  },
  {
   "cell_type": "code",
   "execution_count": 111,
   "id": "suited-rouge",
   "metadata": {},
   "outputs": [
    {
     "data": {
      "text/plain": [
       "Index(['Poster_Link', 'Series_Title', 'Released_Year', 'Certificate', 'Genre',\n",
       "       'IMDB_Rating', 'Overview', 'Meta_score', 'Director', 'Star1', 'Star2',\n",
       "       'Star3', 'Star4', 'No_of_Votes', 'Time_hrs', 'Gross_bn', 'avg_rating'],\n",
       "      dtype='object')"
      ]
     },
     "execution_count": 111,
     "metadata": {},
     "output_type": "execute_result"
    }
   ],
   "source": [
    "data.columns                    #Avg_rating column has been inserted here as below."
   ]
  },
  {
   "cell_type": "code",
   "execution_count": 112,
   "id": "bearing-share",
   "metadata": {
    "scrolled": true
   },
   "outputs": [
    {
     "data": {
      "text/html": [
       "<div>\n",
       "<style scoped>\n",
       "    .dataframe tbody tr th:only-of-type {\n",
       "        vertical-align: middle;\n",
       "    }\n",
       "\n",
       "    .dataframe tbody tr th {\n",
       "        vertical-align: top;\n",
       "    }\n",
       "\n",
       "    .dataframe thead th {\n",
       "        text-align: right;\n",
       "    }\n",
       "</style>\n",
       "<table border=\"1\" class=\"dataframe\">\n",
       "  <thead>\n",
       "    <tr style=\"text-align: right;\">\n",
       "      <th></th>\n",
       "      <th>Poster_Link</th>\n",
       "      <th>Series_Title</th>\n",
       "      <th>Released_Year</th>\n",
       "      <th>Certificate</th>\n",
       "      <th>Genre</th>\n",
       "      <th>IMDB_Rating</th>\n",
       "      <th>Overview</th>\n",
       "      <th>Meta_score</th>\n",
       "      <th>Director</th>\n",
       "      <th>Star1</th>\n",
       "      <th>Star2</th>\n",
       "      <th>Star3</th>\n",
       "      <th>Star4</th>\n",
       "      <th>No_of_Votes</th>\n",
       "      <th>Time_hrs</th>\n",
       "      <th>Gross_bn</th>\n",
       "      <th>avg_rating</th>\n",
       "    </tr>\n",
       "  </thead>\n",
       "  <tbody>\n",
       "    <tr>\n",
       "      <th>0</th>\n",
       "      <td>https://m.media-amazon.com/images/M/MV5BMDFkYT...</td>\n",
       "      <td>The Shawshank Redemption</td>\n",
       "      <td>1994</td>\n",
       "      <td>A</td>\n",
       "      <td>Drama</td>\n",
       "      <td>9.3</td>\n",
       "      <td>Two imprisoned men bond over a number of years...</td>\n",
       "      <td>8.0</td>\n",
       "      <td>Frank Darabont</td>\n",
       "      <td>Tim Robbins</td>\n",
       "      <td>Morgan Freeman</td>\n",
       "      <td>Bob Gunton</td>\n",
       "      <td>William Sadler</td>\n",
       "      <td>2.34</td>\n",
       "      <td>2.37</td>\n",
       "      <td>2.8</td>\n",
       "      <td>8.6</td>\n",
       "    </tr>\n",
       "    <tr>\n",
       "      <th>1</th>\n",
       "      <td>https://m.media-amazon.com/images/M/MV5BM2MyNj...</td>\n",
       "      <td>The Godfather</td>\n",
       "      <td>1972</td>\n",
       "      <td>A</td>\n",
       "      <td>Crime, Drama</td>\n",
       "      <td>9.2</td>\n",
       "      <td>An organized crime dynasty's aging patriarch t...</td>\n",
       "      <td>10.0</td>\n",
       "      <td>Francis Ford Coppola</td>\n",
       "      <td>Marlon Brando</td>\n",
       "      <td>Al Pacino</td>\n",
       "      <td>James Caan</td>\n",
       "      <td>Diane Keaton</td>\n",
       "      <td>1.62</td>\n",
       "      <td>2.92</td>\n",
       "      <td>13.5</td>\n",
       "      <td>9.6</td>\n",
       "    </tr>\n",
       "    <tr>\n",
       "      <th>2</th>\n",
       "      <td>https://m.media-amazon.com/images/M/MV5BMTMxNT...</td>\n",
       "      <td>The Dark Knight</td>\n",
       "      <td>2008</td>\n",
       "      <td>UA</td>\n",
       "      <td>Action, Crime, Drama</td>\n",
       "      <td>9.0</td>\n",
       "      <td>When the menace known as the Joker wreaks havo...</td>\n",
       "      <td>8.4</td>\n",
       "      <td>Christopher Nolan</td>\n",
       "      <td>Christian Bale</td>\n",
       "      <td>Heath Ledger</td>\n",
       "      <td>Aaron Eckhart</td>\n",
       "      <td>Michael Caine</td>\n",
       "      <td>2.30</td>\n",
       "      <td>2.53</td>\n",
       "      <td>53.5</td>\n",
       "      <td>8.7</td>\n",
       "    </tr>\n",
       "  </tbody>\n",
       "</table>\n",
       "</div>"
      ],
      "text/plain": [
       "                                         Poster_Link  \\\n",
       "0  https://m.media-amazon.com/images/M/MV5BMDFkYT...   \n",
       "1  https://m.media-amazon.com/images/M/MV5BM2MyNj...   \n",
       "2  https://m.media-amazon.com/images/M/MV5BMTMxNT...   \n",
       "\n",
       "               Series_Title Released_Year Certificate                 Genre  \\\n",
       "0  The Shawshank Redemption          1994           A                 Drama   \n",
       "1             The Godfather          1972           A          Crime, Drama   \n",
       "2           The Dark Knight          2008          UA  Action, Crime, Drama   \n",
       "\n",
       "   IMDB_Rating                                           Overview  Meta_score  \\\n",
       "0          9.3  Two imprisoned men bond over a number of years...         8.0   \n",
       "1          9.2  An organized crime dynasty's aging patriarch t...        10.0   \n",
       "2          9.0  When the menace known as the Joker wreaks havo...         8.4   \n",
       "\n",
       "               Director           Star1           Star2          Star3  \\\n",
       "0        Frank Darabont     Tim Robbins  Morgan Freeman     Bob Gunton   \n",
       "1  Francis Ford Coppola   Marlon Brando       Al Pacino     James Caan   \n",
       "2     Christopher Nolan  Christian Bale    Heath Ledger  Aaron Eckhart   \n",
       "\n",
       "            Star4  No_of_Votes  Time_hrs  Gross_bn  avg_rating  \n",
       "0  William Sadler         2.34      2.37       2.8         8.6  \n",
       "1    Diane Keaton         1.62      2.92      13.5         9.6  \n",
       "2   Michael Caine         2.30      2.53      53.5         8.7  "
      ]
     },
     "execution_count": 112,
     "metadata": {},
     "output_type": "execute_result"
    }
   ],
   "source": [
    "##Similiarly here we had converted the no. of Votes column into Millions to simplify further calculations.\n",
    "\n",
    "data.No_of_Votes= (data.No_of_Votes.astype(float)/1000000).round(2).astype(float)\n",
    "data.head(3)"
   ]
  },
  {
   "cell_type": "markdown",
   "id": "correct-rebound",
   "metadata": {},
   "source": [
    "## Now the data analysis part will begin from here."
   ]
  },
  {
   "cell_type": "markdown",
   "id": "equipped-rwanda",
   "metadata": {},
   "source": [
    "1. Top 3 movies on the basis of average ratings. Sort them on the basis of avg_rating and IMDB_Rating."
   ]
  },
  {
   "cell_type": "code",
   "execution_count": 143,
   "id": "relative-lithuania",
   "metadata": {
    "scrolled": false
   },
   "outputs": [
    {
     "data": {
      "text/html": [
       "<div>\n",
       "<style scoped>\n",
       "    .dataframe tbody tr th:only-of-type {\n",
       "        vertical-align: middle;\n",
       "    }\n",
       "\n",
       "    .dataframe tbody tr th {\n",
       "        vertical-align: top;\n",
       "    }\n",
       "\n",
       "    .dataframe thead th {\n",
       "        text-align: right;\n",
       "    }\n",
       "</style>\n",
       "<table border=\"1\" class=\"dataframe\">\n",
       "  <thead>\n",
       "    <tr style=\"text-align: right;\">\n",
       "      <th></th>\n",
       "      <th>Poster_Link</th>\n",
       "      <th>Series_Title</th>\n",
       "      <th>Released_Year</th>\n",
       "      <th>Certificate</th>\n",
       "      <th>Genre</th>\n",
       "      <th>IMDB_Rating</th>\n",
       "      <th>Overview</th>\n",
       "      <th>Meta_score</th>\n",
       "      <th>Director</th>\n",
       "      <th>Star1</th>\n",
       "      <th>Star2</th>\n",
       "      <th>Star3</th>\n",
       "      <th>Star4</th>\n",
       "      <th>No_of_Votes</th>\n",
       "      <th>Time_hrs</th>\n",
       "      <th>Gross_bn</th>\n",
       "      <th>avg_rating</th>\n",
       "    </tr>\n",
       "  </thead>\n",
       "  <tbody>\n",
       "    <tr>\n",
       "      <th>1</th>\n",
       "      <td>https://m.media-amazon.com/images/M/MV5BM2MyNj...</td>\n",
       "      <td>The Godfather</td>\n",
       "      <td>1972</td>\n",
       "      <td>A</td>\n",
       "      <td>Crime, Drama</td>\n",
       "      <td>9.2</td>\n",
       "      <td>An organized crime dynasty's aging patriarch t...</td>\n",
       "      <td>10.0</td>\n",
       "      <td>Francis Ford Coppola</td>\n",
       "      <td>Marlon Brando</td>\n",
       "      <td>Al Pacino</td>\n",
       "      <td>James Caan</td>\n",
       "      <td>Diane Keaton</td>\n",
       "      <td>1.62</td>\n",
       "      <td>2.92</td>\n",
       "      <td>13.5</td>\n",
       "      <td>9.6</td>\n",
       "    </tr>\n",
       "    <tr>\n",
       "      <th>4</th>\n",
       "      <td>https://m.media-amazon.com/images/M/MV5BMWU4N2...</td>\n",
       "      <td>12 Angry Men</td>\n",
       "      <td>1957</td>\n",
       "      <td>U</td>\n",
       "      <td>Crime, Drama</td>\n",
       "      <td>9.0</td>\n",
       "      <td>A jury holdout attempts to prevent a miscarria...</td>\n",
       "      <td>9.6</td>\n",
       "      <td>Sidney Lumet</td>\n",
       "      <td>Henry Fonda</td>\n",
       "      <td>Lee J. Cobb</td>\n",
       "      <td>Martin Balsam</td>\n",
       "      <td>John Fiedler</td>\n",
       "      <td>0.69</td>\n",
       "      <td>1.60</td>\n",
       "      <td>0.4</td>\n",
       "      <td>9.3</td>\n",
       "    </tr>\n",
       "    <tr>\n",
       "      <th>5</th>\n",
       "      <td>https://m.media-amazon.com/images/M/MV5BNzA5ZD...</td>\n",
       "      <td>The Lord of the Rings: The Return of the King</td>\n",
       "      <td>2003</td>\n",
       "      <td>U</td>\n",
       "      <td>Action, Adventure, Drama</td>\n",
       "      <td>8.9</td>\n",
       "      <td>Gandalf and Aragorn lead the World of Men agai...</td>\n",
       "      <td>9.4</td>\n",
       "      <td>Peter Jackson</td>\n",
       "      <td>Elijah Wood</td>\n",
       "      <td>Viggo Mortensen</td>\n",
       "      <td>Ian McKellen</td>\n",
       "      <td>Orlando Bloom</td>\n",
       "      <td>1.64</td>\n",
       "      <td>3.35</td>\n",
       "      <td>37.8</td>\n",
       "      <td>9.2</td>\n",
       "    </tr>\n",
       "  </tbody>\n",
       "</table>\n",
       "</div>"
      ],
      "text/plain": [
       "                                         Poster_Link  \\\n",
       "1  https://m.media-amazon.com/images/M/MV5BM2MyNj...   \n",
       "4  https://m.media-amazon.com/images/M/MV5BMWU4N2...   \n",
       "5  https://m.media-amazon.com/images/M/MV5BNzA5ZD...   \n",
       "\n",
       "                                    Series_Title Released_Year Certificate  \\\n",
       "1                                  The Godfather          1972           A   \n",
       "4                                   12 Angry Men          1957           U   \n",
       "5  The Lord of the Rings: The Return of the King          2003           U   \n",
       "\n",
       "                      Genre  IMDB_Rating  \\\n",
       "1              Crime, Drama          9.2   \n",
       "4              Crime, Drama          9.0   \n",
       "5  Action, Adventure, Drama          8.9   \n",
       "\n",
       "                                            Overview  Meta_score  \\\n",
       "1  An organized crime dynasty's aging patriarch t...        10.0   \n",
       "4  A jury holdout attempts to prevent a miscarria...         9.6   \n",
       "5  Gandalf and Aragorn lead the World of Men agai...         9.4   \n",
       "\n",
       "               Director          Star1            Star2          Star3  \\\n",
       "1  Francis Ford Coppola  Marlon Brando        Al Pacino     James Caan   \n",
       "4          Sidney Lumet    Henry Fonda      Lee J. Cobb  Martin Balsam   \n",
       "5         Peter Jackson    Elijah Wood  Viggo Mortensen   Ian McKellen   \n",
       "\n",
       "           Star4  No_of_Votes  Time_hrs  Gross_bn  avg_rating  \n",
       "1   Diane Keaton         1.62      2.92      13.5         9.6  \n",
       "4   John Fiedler         0.69      1.60       0.4         9.3  \n",
       "5  Orlando Bloom         1.64      3.35      37.8         9.2  "
      ]
     },
     "execution_count": 143,
     "metadata": {},
     "output_type": "execute_result"
    }
   ],
   "source": [
    "data.sort_values(by= ['avg_rating','IMDB_Rating'],ascending= False,inplace= False).head(3)"
   ]
  },
  {
   "cell_type": "markdown",
   "id": "vocational-asian",
   "metadata": {},
   "source": [
    "2. Top 2 movies on the basis of number of votes."
   ]
  },
  {
   "cell_type": "code",
   "execution_count": 142,
   "id": "moving-shirt",
   "metadata": {
    "scrolled": true
   },
   "outputs": [
    {
     "data": {
      "text/html": [
       "<div>\n",
       "<style scoped>\n",
       "    .dataframe tbody tr th:only-of-type {\n",
       "        vertical-align: middle;\n",
       "    }\n",
       "\n",
       "    .dataframe tbody tr th {\n",
       "        vertical-align: top;\n",
       "    }\n",
       "\n",
       "    .dataframe thead th {\n",
       "        text-align: right;\n",
       "    }\n",
       "</style>\n",
       "<table border=\"1\" class=\"dataframe\">\n",
       "  <thead>\n",
       "    <tr style=\"text-align: right;\">\n",
       "      <th></th>\n",
       "      <th>Poster_Link</th>\n",
       "      <th>Series_Title</th>\n",
       "      <th>Released_Year</th>\n",
       "      <th>Certificate</th>\n",
       "      <th>Genre</th>\n",
       "      <th>IMDB_Rating</th>\n",
       "      <th>Overview</th>\n",
       "      <th>Meta_score</th>\n",
       "      <th>Director</th>\n",
       "      <th>Star1</th>\n",
       "      <th>Star2</th>\n",
       "      <th>Star3</th>\n",
       "      <th>Star4</th>\n",
       "      <th>No_of_Votes</th>\n",
       "      <th>Time_hrs</th>\n",
       "      <th>Gross_bn</th>\n",
       "      <th>avg_rating</th>\n",
       "    </tr>\n",
       "  </thead>\n",
       "  <tbody>\n",
       "    <tr>\n",
       "      <th>0</th>\n",
       "      <td>https://m.media-amazon.com/images/M/MV5BMDFkYT...</td>\n",
       "      <td>The Shawshank Redemption</td>\n",
       "      <td>1994</td>\n",
       "      <td>A</td>\n",
       "      <td>Drama</td>\n",
       "      <td>9.3</td>\n",
       "      <td>Two imprisoned men bond over a number of years...</td>\n",
       "      <td>8.0</td>\n",
       "      <td>Frank Darabont</td>\n",
       "      <td>Tim Robbins</td>\n",
       "      <td>Morgan Freeman</td>\n",
       "      <td>Bob Gunton</td>\n",
       "      <td>William Sadler</td>\n",
       "      <td>2.34</td>\n",
       "      <td>2.37</td>\n",
       "      <td>2.8</td>\n",
       "      <td>8.6</td>\n",
       "    </tr>\n",
       "    <tr>\n",
       "      <th>2</th>\n",
       "      <td>https://m.media-amazon.com/images/M/MV5BMTMxNT...</td>\n",
       "      <td>The Dark Knight</td>\n",
       "      <td>2008</td>\n",
       "      <td>UA</td>\n",
       "      <td>Action, Crime, Drama</td>\n",
       "      <td>9.0</td>\n",
       "      <td>When the menace known as the Joker wreaks havo...</td>\n",
       "      <td>8.4</td>\n",
       "      <td>Christopher Nolan</td>\n",
       "      <td>Christian Bale</td>\n",
       "      <td>Heath Ledger</td>\n",
       "      <td>Aaron Eckhart</td>\n",
       "      <td>Michael Caine</td>\n",
       "      <td>2.30</td>\n",
       "      <td>2.53</td>\n",
       "      <td>53.5</td>\n",
       "      <td>8.7</td>\n",
       "    </tr>\n",
       "  </tbody>\n",
       "</table>\n",
       "</div>"
      ],
      "text/plain": [
       "                                         Poster_Link  \\\n",
       "0  https://m.media-amazon.com/images/M/MV5BMDFkYT...   \n",
       "2  https://m.media-amazon.com/images/M/MV5BMTMxNT...   \n",
       "\n",
       "               Series_Title Released_Year Certificate                 Genre  \\\n",
       "0  The Shawshank Redemption          1994           A                 Drama   \n",
       "2           The Dark Knight          2008          UA  Action, Crime, Drama   \n",
       "\n",
       "   IMDB_Rating                                           Overview  Meta_score  \\\n",
       "0          9.3  Two imprisoned men bond over a number of years...         8.0   \n",
       "2          9.0  When the menace known as the Joker wreaks havo...         8.4   \n",
       "\n",
       "            Director           Star1           Star2          Star3  \\\n",
       "0     Frank Darabont     Tim Robbins  Morgan Freeman     Bob Gunton   \n",
       "2  Christopher Nolan  Christian Bale    Heath Ledger  Aaron Eckhart   \n",
       "\n",
       "            Star4  No_of_Votes  Time_hrs  Gross_bn  avg_rating  \n",
       "0  William Sadler         2.34      2.37       2.8         8.6  \n",
       "2   Michael Caine         2.30      2.53      53.5         8.7  "
      ]
     },
     "execution_count": 142,
     "metadata": {},
     "output_type": "execute_result"
    }
   ],
   "source": [
    "data.sort_values(by=['No_of_Votes'],ascending= False,inplace=False).head(2)"
   ]
  },
  {
   "cell_type": "markdown",
   "id": "strange-observer",
   "metadata": {},
   "source": [
    "Number of movies in the particular category"
   ]
  },
  {
   "cell_type": "code",
   "execution_count": 115,
   "id": "romantic-cherry",
   "metadata": {
    "scrolled": true
   },
   "outputs": [
    {
     "data": {
      "text/plain": [
       "U           234\n",
       "A           197\n",
       "UA          175\n",
       "R           146\n",
       "0           101\n",
       "PG-13        43\n",
       "PG           37\n",
       "Passed       34\n",
       "G            12\n",
       "Approved     11\n",
       "TV-PG         3\n",
       "GP            2\n",
       "Unrated       1\n",
       "U/A           1\n",
       "TV-14         1\n",
       "16            1\n",
       "TV-MA         1\n",
       "Name: Certificate, dtype: int64"
      ]
     },
     "execution_count": 115,
     "metadata": {},
     "output_type": "execute_result"
    }
   ],
   "source": [
    "data.Certificate.value_counts()"
   ]
  },
  {
   "cell_type": "markdown",
   "id": "involved-utility",
   "metadata": {},
   "source": [
    "Category-wise average gross earnings"
   ]
  },
  {
   "cell_type": "code",
   "execution_count": 116,
   "id": "promising-reform",
   "metadata": {},
   "outputs": [
    {
     "data": {
      "text/plain": [
       "Certificate\n",
       "UA          14.03\n",
       "U            8.73\n",
       "A            6.45\n",
       "G            5.67\n",
       "PG-13        4.00\n",
       "TV-PG        3.90\n",
       "0            3.72\n",
       "R            2.97\n",
       "PG           2.68\n",
       "U/A          2.60\n",
       "Passed       1.31\n",
       "Approved     1.06\n",
       "TV-14        0.70\n",
       "16           0.10\n",
       "GP           0.10\n",
       "TV-MA        0.10\n",
       "Unrated       NaN\n",
       "Name: Gross_bn, dtype: float64"
      ]
     },
     "execution_count": 116,
     "metadata": {},
     "output_type": "execute_result"
    }
   ],
   "source": [
    "data.groupby('Certificate').Gross_bn.mean().sort_values(ascending= False).round(2)   #All values are in Billions"
   ]
  },
  {
   "cell_type": "markdown",
   "id": "engaged-census",
   "metadata": {},
   "source": [
    "Category-wise number of votes."
   ]
  },
  {
   "cell_type": "code",
   "execution_count": 117,
   "id": "analyzed-aquarium",
   "metadata": {},
   "outputs": [
    {
     "data": {
      "text/plain": [
       "Certificate\n",
       "A           84.38\n",
       "UA          76.80\n",
       "U           59.87\n",
       "R           31.14\n",
       "PG-13        6.19\n",
       "0            6.02\n",
       "PG           3.76\n",
       "Passed       2.49\n",
       "G            1.61\n",
       "Approved     0.78\n",
       "TV-MA        0.14\n",
       "U/A          0.14\n",
       "TV-PG        0.11\n",
       "GP           0.10\n",
       "Unrated      0.07\n",
       "16           0.05\n",
       "TV-14        0.03\n",
       "Name: No_of_Votes, dtype: float64"
      ]
     },
     "execution_count": 117,
     "metadata": {},
     "output_type": "execute_result"
    }
   ],
   "source": [
    "data.groupby('Certificate').No_of_Votes.sum().sort_values(ascending= False)              #All values are in Millions"
   ]
  },
  {
   "cell_type": "markdown",
   "id": "signed-uzbekistan",
   "metadata": {},
   "source": [
    "Number of movies by each directors.....show only list of top 20 "
   ]
  },
  {
   "cell_type": "code",
   "execution_count": 118,
   "id": "armed-halifax",
   "metadata": {
    "scrolled": true
   },
   "outputs": [
    {
     "data": {
      "text/plain": [
       "Alfred Hitchcock     14\n",
       "Steven Spielberg     13\n",
       "Hayao Miyazaki       11\n",
       "Martin Scorsese      10\n",
       "Akira Kurosawa       10\n",
       "Stanley Kubrick       9\n",
       "Billy Wilder          9\n",
       "Woody Allen           9\n",
       "Quentin Tarantino     8\n",
       "Christopher Nolan     8\n",
       "David Fincher         8\n",
       "Clint Eastwood        8\n",
       "Rob Reiner            7\n",
       "Ingmar Bergman        7\n",
       "Howard Hawks          7\n",
       "Charles Chaplin       6\n",
       "Richard Linklater     6\n",
       "Wes Anderson          6\n",
       "Ridley Scott          6\n",
       "Sergio Leone          6\n",
       "Joel Coen             6\n",
       "Alfonso Cuarón        6\n",
       "Name: Director, dtype: int64"
      ]
     },
     "execution_count": 118,
     "metadata": {},
     "output_type": "execute_result"
    }
   ],
   "source": [
    "data.Director.value_counts().nlargest(n=20, keep= 'all')"
   ]
  },
  {
   "cell_type": "markdown",
   "id": "beneficial-breakdown",
   "metadata": {},
   "source": [
    "Average Gross earning per movie of directors...only show top directors"
   ]
  },
  {
   "cell_type": "code",
   "execution_count": 119,
   "id": "adapted-intro",
   "metadata": {
    "scrolled": true
   },
   "outputs": [
    {
     "data": {
      "text/plain": [
       "Director\n",
       "Anthony Russo       55.12\n",
       "Gareth Edwards      53.20\n",
       "J.J. Abrams         47.47\n",
       "Josh Cooley         43.40\n",
       "Roger Allers        42.30\n",
       "Tim Miller          36.30\n",
       "James Gunn          36.15\n",
       "James Cameron       34.96\n",
       "Byron Howard        34.10\n",
       "David Yates         32.63\n",
       "David Leitch        32.50\n",
       "Joss Whedon         32.45\n",
       "George Lucas        32.30\n",
       "Masaki Kobayashi    32.30\n",
       "Peter Jackson       31.96\n",
       "Jon Favreau         31.80\n",
       "Lee Unkrich         31.25\n",
       "Richard Marquand    30.90\n",
       "Todd Phillips       30.60\n",
       "Gore Verbinski      30.50\n",
       "Name: Gross_bn, dtype: float64"
      ]
     },
     "execution_count": 119,
     "metadata": {},
     "output_type": "execute_result"
    }
   ],
   "source": [
    "data.groupby('Director').Gross_bn.mean().nlargest(n=20, keep= 'all').round(2)"
   ]
  },
  {
   "cell_type": "markdown",
   "id": "prospective-possibility",
   "metadata": {},
   "source": [
    "Total number of votes each director's movies received"
   ]
  },
  {
   "cell_type": "code",
   "execution_count": 120,
   "id": "external-manitoba",
   "metadata": {
    "scrolled": true
   },
   "outputs": [
    {
     "data": {
      "text/plain": [
       "Director\n",
       "Christopher Nolan       11\n",
       "Quentin Tarantino        8\n",
       "Steven Spielberg         7\n",
       "David Fincher            6\n",
       "Martin Scorsese          6\n",
       "Peter Jackson            6\n",
       "James Cameron            4\n",
       "Ridley Scott             4\n",
       "Robert Zemeckis          4\n",
       "Stanley Kubrick          3\n",
       "Francis Ford Coppola     3\n",
       "Frank Darabont           3\n",
       "Anthony Russo            3\n",
       "Clint Eastwood           2\n",
       "Alfred Hitchcock         2\n",
       "Pete Docter              2\n",
       "Sam Mendes               2\n",
       "Hayao Miyazaki           2\n",
       "Denis Villeneuve         2\n",
       "Guy Ritchie              2\n",
       "Name: No_of_Votes, dtype: int32"
      ]
     },
     "execution_count": 120,
     "metadata": {},
     "output_type": "execute_result"
    }
   ],
   "source": [
    "data.groupby('Director').No_of_Votes.sum().nlargest(n=20,keep= 'all').astype(int)"
   ]
  },
  {
   "cell_type": "markdown",
   "id": "responsible-union",
   "metadata": {},
   "source": [
    "## Data Visualization"
   ]
  },
  {
   "cell_type": "markdown",
   "id": "possible-buyer",
   "metadata": {},
   "source": [
    "Distribution of IMDB RATINGS among movies"
   ]
  },
  {
   "cell_type": "code",
   "execution_count": 121,
   "id": "permanent-begin",
   "metadata": {},
   "outputs": [
    {
     "data": {
      "image/png": "[encoded data removed]",
      "text/plain": [
       "<Figure size 432x288 with 1 Axes>"
      ]
     },
     "metadata": {
      "needs_background": "light"
     },
     "output_type": "display_data"
    }
   ],
   "source": [
    "plt.hist(data.IMDB_Rating, rwidth=0.9)\n",
    "plt.xlabel(\"IMDB-RATINGS\")\n",
    "plt.ylabel(\"No. of MOVIES\")\n",
    "plt.title(\"DISTRIBUTION OF RATINGS AMONG MOVIES\");"
   ]
  },
  {
   "cell_type": "markdown",
   "id": "applied-chambers",
   "metadata": {},
   "source": [
    "THE ABOVE HISTOGRAM SHOWS THAT THIS IS A RIGHT SKEWED PLOT. WHICH MEANS THAT MAXIMUM NUMBER OF MOVIES HAVE RATINGS WHICH ARE LESS THAN THE OVERALL MEAN RATINGS."
   ]
  },
  {
   "cell_type": "markdown",
   "id": "bibliographic-removal",
   "metadata": {},
   "source": [
    "Distribution of Average ratings among movies"
   ]
  },
  {
   "cell_type": "code",
   "execution_count": 122,
   "id": "future-compound",
   "metadata": {},
   "outputs": [
    {
     "data": {
      "image/png": "[encoded data removed]",
      "text/plain": [
       "<Figure size 432x288 with 1 Axes>"
      ]
     },
     "metadata": {
      "needs_background": "light"
     },
     "output_type": "display_data"
    }
   ],
   "source": [
    "plt.hist(data.avg_rating, rwidth=0.9)\n",
    "plt.xlabel(\"FINAL RATINGS\")\n",
    "plt.ylabel(\"No. of MOVIES\")\n",
    "plt.title(\"DISTRIBUTION OF FINAL RATINGS AMONG MOVIES\");"
   ]
  },
  {
   "cell_type": "markdown",
   "id": "great-flashing",
   "metadata": {},
   "source": [
    "THE ABOVE HISTOGRAM IS LEFT-SKEWED WHICH SHOWS THAT MAXIMUM NUMBER OF MOVIES RATINGS ARE BETWEEN 7.4 AND 8.6. THUS ACCORDING TO THIS RATING MAXIMUM NUMBER OF MOVIES ARE HAVING THEIR FINAL RATING HIGHER THAN THEIR OVERALL MEAN RATINGS."
   ]
  },
  {
   "cell_type": "markdown",
   "id": "solved-width",
   "metadata": {},
   "source": [
    "Distribution of Running length among movies"
   ]
  },
  {
   "cell_type": "code",
   "execution_count": 123,
   "id": "fossil-science",
   "metadata": {},
   "outputs": [
    {
     "data": {
      "image/png": "[encoded data removed]",
      "text/plain": [
       "<Figure size 432x288 with 1 Axes>"
      ]
     },
     "metadata": {
      "needs_background": "light"
     },
     "output_type": "display_data"
    }
   ],
   "source": [
    "plt.hist(data.Time_hrs, rwidth=0.9)\n",
    "plt.xlabel(\"RUNNING TIME IN Hrs\")\n",
    "plt.ylabel(\"No. of MOVIES\")\n",
    "plt.title(\"DISTRIBUTION OF LENGTH AMONG MOVIES\");"
   ]
  },
  {
   "cell_type": "markdown",
   "id": "eastern-sheet",
   "metadata": {},
   "source": [
    "FROM THE ABOVE HISTOGRAM WE CAN CONCLUDE THAT MAXIMUM MOVIES HAVE THEIR TOTAL RUNNING TIME BETWEEN 1.5 AND 2.5 HOURS. AS A RESULT OF WHICH THE GRAPH IS RIGHT SKEWED."
   ]
  },
  {
   "cell_type": "code",
   "execution_count": 124,
   "id": "pending-punishment",
   "metadata": {},
   "outputs": [],
   "source": [
    "from numpy import corrcoef\n",
    "import scipy.stats"
   ]
  },
  {
   "cell_type": "markdown",
   "id": "distant-mineral",
   "metadata": {},
   "source": [
    "To find correlation between number of votes and gross earnings"
   ]
  },
  {
   "cell_type": "code",
   "execution_count": 125,
   "id": "antique-amendment",
   "metadata": {},
   "outputs": [
    {
     "data": {
      "image/png": "[encoded data removed]",
      "text/plain": [
       "<Figure size 432x288 with 1 Axes>"
      ]
     },
     "metadata": {
      "needs_background": "light"
     },
     "output_type": "display_data"
    }
   ],
   "source": [
    "plt.scatter(data.No_of_Votes,data.Gross_bn);\n",
    "plt.xlabel(\"No. of VOTES\")\n",
    "plt.ylabel(\"GROSS EARNING IN Bn\")\n",
    "plt.title(\"CORRELATION BETWEEN VOTES & GROSS EARNINGS\");"
   ]
  },
  {
   "cell_type": "code",
   "execution_count": 135,
   "id": "balanced-carolina",
   "metadata": {},
   "outputs": [
    {
     "name": "stdout",
     "output_type": "stream",
     "text": [
      "r= 0.48\n",
      "p= 8.439022041118541e-60\n"
     ]
    }
   ],
   "source": [
    "data.Gross_bn.fillna(method= 'ffill',inplace= True)\n",
    "r,p=scipy.stats.pearsonr(data.No_of_Votes,data.Gross_bn)\n",
    "print(\"r=\",r.round(2))\n",
    "print(\"p=\",p)"
   ]
  },
  {
   "cell_type": "markdown",
   "id": "north-microphone",
   "metadata": {},
   "source": [
    "Here as shown \"r\" co-efficient is positive thus it seems that both gross earnings and number of votes are having positive correlation. As a result, higher the number of votes higher will be the gross earnings. But still there are few outliers. The lower value of \"r\" represents the weak relations between both of them."
   ]
  },
  {
   "cell_type": "markdown",
   "id": "little-inventory",
   "metadata": {},
   "source": [
    "To find correlation between average ratings and gross earnings"
   ]
  },
  {
   "cell_type": "code",
   "execution_count": 141,
   "id": "wireless-gambling",
   "metadata": {},
   "outputs": [
    {
     "data": {
      "image/png": "[encoded data removed]",
      "text/plain": [
       "<Figure size 432x288 with 1 Axes>"
      ]
     },
     "metadata": {
      "needs_background": "light"
     },
     "output_type": "display_data"
    }
   ],
   "source": [
    "plt.scatter(data.avg_rating,data.Gross_bn)\n",
    "plt.xlabel(\"AVG. RATINGS\")\n",
    "plt.ylabel(\"GROSS EARNING IN Bn\")\n",
    "plt.title(\"CORRELATION BETWEEN AVG RATINGS & GROSS EARNINGS\");\n",
    "plt.ylim(0,30);"
   ]
  },
  {
   "cell_type": "code",
   "execution_count": 139,
   "id": "protective-trainer",
   "metadata": {},
   "outputs": [
    {
     "name": "stdout",
     "output_type": "stream",
     "text": [
      "r= -0.06\n",
      "p= 0.0705987125157692\n"
     ]
    }
   ],
   "source": [
    "r,p= scipy.stats.pearsonr(data.avg_rating,data.Gross_bn)\n",
    "print(\"r=\",r.round(2))\n",
    "print(\"p=\",p)"
   ]
  },
  {
   "cell_type": "markdown",
   "id": "removable-cardiff",
   "metadata": {},
   "source": [
    "Here,the value of \"r\" is negative as well as from the graph we can clearly observe that the number of outliers are very high. also the value of \"r\" is very close to 0. Thus, there is very weak correlation between both of them. This is because maximum number of movies irrespective of their earnings got the ratings between 7 & 9. As a result, gross earnings is not much dependent upon the ratings received. There may be many other factors on which gross earnings may be dependent like Genres of movies, category of the movie, actors and actress fame, number of votes and likes on social media, etc."
   ]
  },
  {
   "cell_type": "markdown",
   "id": "nasty-estonia",
   "metadata": {},
   "source": [
    "Correlation between running time and number of votes for the movies."
   ]
  },
  {
   "cell_type": "code",
   "execution_count": 153,
   "id": "ahead-youth",
   "metadata": {},
   "outputs": [
    {
     "data": {
      "image/png": "[encoded data removed]",
      "text/plain": [
       "<Figure size 432x288 with 1 Axes>"
      ]
     },
     "metadata": {
      "needs_background": "light"
     },
     "output_type": "display_data"
    }
   ],
   "source": [
    "plt.scatter(data.Time_hrs,data.No_of_Votes)\n",
    "plt.xlabel(\"TIME in Hours\")\n",
    "plt.ylabel(\"VOTES IN Mn\")\n",
    "plt.title(\"CORRELATION BETWEEN RUNNING TIME & NO. OF VOTES \");\n",
    "plt.ylim(0,1.5);"
   ]
  },
  {
   "cell_type": "code",
   "execution_count": 154,
   "id": "decreased-semester",
   "metadata": {},
   "outputs": [
    {
     "name": "stdout",
     "output_type": "stream",
     "text": [
      "r= 0.17\n",
      "p= 3.534095044605939e-08\n"
     ]
    }
   ],
   "source": [
    "r,p= scipy.stats.pearsonr(data.Time_hrs,data.No_of_Votes)\n",
    "print(\"r=\",r.round(2))\n",
    "print(\"p=\",p)"
   ]
  },
  {
   "cell_type": "markdown",
   "id": "after-strategy",
   "metadata": {},
   "source": [
    "Positive \"r\" value shows that the relation is positive but the value is very near to 0 which means they has a weak positive relation. This is because maximum number of people like to watch movies that are not more than 2.5 hours in length. we can clearly see here that for the running time more than 2.5 hrs, the number of votes are sharply reducing, while maximum votes goes to those movies which are approx 2 hours in length. There are always some exceptional cases due to which we can observe the outliers but those are may be for such movies that are exceptionally good in terms of star-cast, contents, visual effects, etc."
   ]
  }
 ],
 "metadata": {
  "kernelspec": {
   "display_name": "Python 3",
   "language": "python",
   "name": "python3"
  },
  "language_info": {
   "codemirror_mode": {
    "name": "ipython",
    "version": 3
   },
   "file_extension": ".py",
   "mimetype": "text/x-python",
   "name": "python",
   "nbconvert_exporter": "python",
   "pygments_lexer": "ipython3",
   "version": "3.9.2"
  }
 },
 "nbformat": 4,
 "nbformat_minor": 5
}
